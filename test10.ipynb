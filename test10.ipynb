{
 "cells": [
  {
   "cell_type": "code",
   "execution_count": 1,
   "id": "d30df0ce",
   "metadata": {},
   "outputs": [
    {
     "ename": "ModuleNotFoundError",
     "evalue": "No module named 'dash_core_components'",
     "output_type": "error",
     "traceback": [
      "\u001b[31m---------------------------------------------------------------------------\u001b[39m",
      "\u001b[31mModuleNotFoundError\u001b[39m                       Traceback (most recent call last)",
      "\u001b[36mCell\u001b[39m\u001b[36m \u001b[39m\u001b[32mIn[1]\u001b[39m\u001b[32m, line 5\u001b[39m\n\u001b[32m      3\u001b[39m \u001b[38;5;28;01mfrom\u001b[39;00m\u001b[38;5;250m \u001b[39m\u001b[34;01mdash\u001b[39;00m\u001b[34;01m.\u001b[39;00m\u001b[34;01mdependencies\u001b[39;00m\u001b[38;5;250m \u001b[39m\u001b[38;5;28;01mimport\u001b[39;00m Output, Input\n\u001b[32m      4\u001b[39m \u001b[38;5;28;01mfrom\u001b[39;00m\u001b[38;5;250m \u001b[39m\u001b[34;01mdash_extensions\u001b[39;00m\u001b[38;5;250m \u001b[39m\u001b[38;5;28;01mimport\u001b[39;00m Download \n\u001b[32m----> \u001b[39m\u001b[32m5\u001b[39m \u001b[38;5;28;01mfrom\u001b[39;00m\u001b[38;5;250m \u001b[39m\u001b[34;01mdash_extensions\u001b[39;00m\u001b[34;01m.\u001b[39;00m\u001b[34;01msnippets\u001b[39;00m\u001b[38;5;250m \u001b[39m\u001b[38;5;28;01mimport\u001b[39;00m send_file\n\u001b[32m      7\u001b[39m app = dash.Dash(prevent_initial_callbacks=\u001b[38;5;28;01mTrue\u001b[39;00m)\n\u001b[32m      8\u001b[39m app.layout = html.Div([html.Button(\u001b[33m\"\u001b[39m\u001b[33mDownload\u001b[39m\u001b[33m\"\u001b[39m, \u001b[38;5;28mid\u001b[39m=\u001b[33m\"\u001b[39m\u001b[33mbtn\u001b[39m\u001b[33m\"\u001b[39m), Download(\u001b[38;5;28mid\u001b[39m=\u001b[33m\"\u001b[39m\u001b[33mdownload\u001b[39m\u001b[33m\"\u001b[39m)])\n",
      "\u001b[36mFile \u001b[39m\u001b[32m~/Documents/GitHub/Master-Thesis/.venv/lib/python3.11/site-packages/dash_extensions/snippets.py:5\u001b[39m\n\u001b[32m      3\u001b[39m \u001b[38;5;28;01mimport\u001b[39;00m\u001b[38;5;250m \u001b[39m\u001b[34;01mbase64\u001b[39;00m\n\u001b[32m      4\u001b[39m \u001b[38;5;28;01mimport\u001b[39;00m\u001b[38;5;250m \u001b[39m\u001b[34;01muuid\u001b[39;00m\n\u001b[32m----> \u001b[39m\u001b[32m5\u001b[39m \u001b[38;5;28;01mimport\u001b[39;00m\u001b[38;5;250m \u001b[39m\u001b[34;01mdash_core_components\u001b[39;00m\u001b[38;5;250m \u001b[39m\u001b[38;5;28;01mas\u001b[39;00m\u001b[38;5;250m \u001b[39m\u001b[34;01mdcc\u001b[39;00m\n\u001b[32m      6\u001b[39m \u001b[38;5;28;01mimport\u001b[39;00m\u001b[38;5;250m \u001b[39m\u001b[34;01mdash_html_components\u001b[39;00m\u001b[38;5;250m \u001b[39m\u001b[38;5;28;01mas\u001b[39;00m\u001b[38;5;250m \u001b[39m\u001b[34;01mhtml\u001b[39;00m\n\u001b[32m      8\u001b[39m \u001b[38;5;28;01mfrom\u001b[39;00m\u001b[38;5;250m \u001b[39m\u001b[34;01mdash\u001b[39;00m\u001b[34;01m.\u001b[39;00m\u001b[34;01mdependencies\u001b[39;00m\u001b[38;5;250m \u001b[39m\u001b[38;5;28;01mimport\u001b[39;00m Output, Input\n",
      "\u001b[31mModuleNotFoundError\u001b[39m: No module named 'dash_core_components'"
     ]
    }
   ],
   "source": [
    "import dash\n",
    "from dash import html\n",
    "from dash.dependencies import Output, Input\n",
    "from dash_extensions import Download \n",
    "from dash_extensions.snippets import send_file\n",
    "\n",
    "app = dash.Dash(prevent_initial_callbacks=True)\n",
    "app.layout = html.Div([html.Button(\"Download\", id=\"btn\"), Download(id=\"download\")])\n",
    "\n",
    "@app.callback(Output(\"download\", \"data\"), [Input(\"btn\", \"n_clicks\")])\n",
    "def func(n_clicks):\n",
    "    return dict(content=\"Hello world!\", filename=\"hello.txt\")\n",
    "\n",
    "# if __name__ == '__main__':\n",
    "#     app.run()"
   ]
  },
  {
   "cell_type": "code",
   "execution_count": 4,
   "id": "b0c510b6",
   "metadata": {},
   "outputs": [
    {
     "data": {
      "text/html": [
       "\n",
       "        <iframe\n",
       "            width=\"100%\"\n",
       "            height=\"650\"\n",
       "            src=\"http://127.0.0.1:8050/\"\n",
       "            frameborder=\"0\"\n",
       "            allowfullscreen\n",
       "            \n",
       "        ></iframe>\n",
       "        "
      ],
      "text/plain": [
       "<IPython.lib.display.IFrame at 0x114eb7050>"
      ]
     },
     "metadata": {},
     "output_type": "display_data"
    },
    {
     "name": "stderr",
     "output_type": "stream",
     "text": [
      "[2025-05-27 15:28:38,909] ERROR in app: Exception on /_dash-update-component [POST]\n",
      "Traceback (most recent call last):\n",
      "  File \"/Users/vicpi/Documents/GitHub/Master-Thesis/.venv/lib/python3.11/site-packages/flask/app.py\", line 1473, in wsgi_app\n",
      "    response = self.full_dispatch_request()\n",
      "               ^^^^^^^^^^^^^^^^^^^^^^^^^^^^\n",
      "  File \"/Users/vicpi/Documents/GitHub/Master-Thesis/.venv/lib/python3.11/site-packages/flask/app.py\", line 882, in full_dispatch_request\n",
      "    rv = self.handle_user_exception(e)\n",
      "         ^^^^^^^^^^^^^^^^^^^^^^^^^^^^^\n",
      "  File \"/Users/vicpi/Documents/GitHub/Master-Thesis/.venv/lib/python3.11/site-packages/flask/app.py\", line 880, in full_dispatch_request\n",
      "    rv = self.dispatch_request()\n",
      "         ^^^^^^^^^^^^^^^^^^^^^^^\n",
      "  File \"/Users/vicpi/Documents/GitHub/Master-Thesis/.venv/lib/python3.11/site-packages/flask/app.py\", line 865, in dispatch_request\n",
      "    return self.ensure_sync(self.view_functions[rule.endpoint])(**view_args)  # type: ignore[no-any-return]\n",
      "           ^^^^^^^^^^^^^^^^^^^^^^^^^^^^^^^^^^^^^^^^^^^^^^^^^^^^^^^^^^^^^^^^^\n",
      "  File \"/Users/vicpi/Documents/GitHub/Master-Thesis/.venv/lib/python3.11/site-packages/dash/dash.py\", line 1414, in dispatch\n",
      "    ctx.run(\n",
      "  File \"/Users/vicpi/Documents/GitHub/Master-Thesis/.venv/lib/python3.11/site-packages/dash/_callback.py\", line 536, in add_context\n",
      "    raise err\n",
      "  File \"/Users/vicpi/Documents/GitHub/Master-Thesis/.venv/lib/python3.11/site-packages/dash/_callback.py\", line 525, in add_context\n",
      "    output_value = _invoke_callback(func, *func_args, **func_kwargs)  # type: ignore[reportArgumentType]\n",
      "                   ^^^^^^^^^^^^^^^^^^^^^^^^^^^^^^^^^^^^^^^^^^^^^^^^^\n",
      "  File \"/Users/vicpi/Documents/GitHub/Master-Thesis/.venv/lib/python3.11/site-packages/dash/_callback.py\", line 47, in _invoke_callback\n",
      "    return func(*args, **kwargs)  # %% callback invoked %%\n",
      "           ^^^^^^^^^^^^^^^^^^^^^\n",
      "  File \"/var/folders/gg/_vl162cs4zs99kls4stdr7xc0000gn/T/ipykernel_63149/521277038.py\", line 6, in func\n",
      "    return send_file(\"/Users/vicpi/Documents/Untitled.png\")\n",
      "           ^^^^^^^^^\n",
      "NameError: name 'send_file' is not defined\n"
     ]
    }
   ],
   "source": [
    "app = dash.Dash(prevent_initial_callbacks=True)\n",
    "app.layout = html.Div([html.Button(\"Download\", id=\"btn\"), Download(id=\"download\")])\n",
    "\n",
    "@app.callback(Output(\"download\", \"data\"), [Input(\"btn\", \"n_clicks\")])\n",
    "def func(n_clicks):\n",
    "    return send_file(\"/Users/vicpi/Documents/Untitled.png\")\n",
    "\n",
    "if __name__ == '__main__':\n",
    "    app.run()"
   ]
  },
  {
   "cell_type": "code",
   "execution_count": null,
   "id": "d83abc47",
   "metadata": {},
   "outputs": [],
   "source": []
  }
 ],
 "metadata": {
  "kernelspec": {
   "display_name": ".venv",
   "language": "python",
   "name": "python3"
  },
  "language_info": {
   "codemirror_mode": {
    "name": "ipython",
    "version": 3
   },
   "file_extension": ".py",
   "mimetype": "text/x-python",
   "name": "python",
   "nbconvert_exporter": "python",
   "pygments_lexer": "ipython3",
   "version": "3.11.8"
  }
 },
 "nbformat": 4,
 "nbformat_minor": 5
}
