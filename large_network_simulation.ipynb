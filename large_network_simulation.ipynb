{
 "cells": [
  {
   "cell_type": "code",
   "execution_count": 14,
   "id": "11b38c2b",
   "metadata": {},
   "outputs": [
    {
     "name": "stdout",
     "output_type": "stream",
     "text": [
      "[[101.66200955 101.66200955 101.66200955 101.66200955 101.66200955\n",
      "  101.66200955 101.66200955 101.66200955 101.66200955 101.66200955\n",
      "  101.66200955 101.66200955 101.66200955 101.66200955 101.66200955\n",
      "  101.66200955 101.66200955 101.66200955 101.66200955 101.66200955\n",
      "  101.66200955 101.66200955 101.66200955 101.66200955 101.66200955\n",
      "  101.66200955 101.66200955 101.66200955 101.66200955 101.66200955\n",
      "  101.66200955 101.66200955 101.66200955 101.66200955 101.66200955\n",
      "  101.66200955 101.66200955 101.66200955 101.66200955 101.66200955\n",
      "  101.66200955 101.66200955 101.66200955 101.66200955 101.66200955\n",
      "  101.66200955 101.66200955 101.66200955 101.66200955 101.66200955\n",
      "  101.66200955 101.66200955 101.66200955 101.66200955 101.66200955\n",
      "  101.66200955 101.66200955 101.66200955 101.66200955 101.66200955\n",
      "  101.66200955 101.66200955 101.66200955 101.66200955 101.66200955\n",
      "  101.66200955 101.66200955 101.66200955 101.66200955]\n",
      " [ 97.74788559  97.74788692  97.74790019  97.74803304  97.74937537\n",
      "   97.76417804  98.04582632 105.76639201 121.59326217 165.0509811\n",
      "  169.10681855 173.41395095 177.81535649 179.07094601 180.42570463\n",
      "  181.18506677 182.01323189 182.28019561 182.61686338 182.84730408\n",
      "  183.20464157 183.32489016 183.49071031 183.65913453 183.97887423\n",
      "  184.10758058 184.32089135 184.43443274 184.61168479 184.74090967\n",
      "  184.96294171 185.06917478 185.23078988 185.36691683 185.612986\n",
      "  185.71043076 185.85272651 185.99985252 186.28740414 186.39168752\n",
      "  186.549473   186.68649135 186.93697436 187.03274105 187.17179126\n",
      "  187.31983154 187.61262384 187.72682283 187.90941888 188.03139905\n",
      "  188.23536712 188.34648221 188.5214196  188.6470605  188.86210248\n",
      "  188.96791623 189.13008311 189.26244483 189.49907027 189.59672847\n",
      "  189.74046    189.88345326 190.15869132 190.25865564 190.40766586\n",
      "  190.54619873 190.80524205 190.90142696 191.04226251]]\n"
     ]
    },
    {
     "name": "stderr",
     "output_type": "stream",
     "text": [
      "/var/folders/gg/_vl162cs4zs99kls4stdr7xc0000gn/T/ipykernel_48498/1047454038.py:19: RuntimeWarning: divide by zero encountered in divide\n",
      "  M_tau = np.nan_to_num(M / tau_matrix, nan=0, posinf=0, neginf=0)\n"
     ]
    }
   ],
   "source": [
    "import numpy as np\n",
    "from Classes.Analysis import Analysis\n",
    "from Classes.GraphMakerGUI import GraphMakerGUI\n",
    "\n",
    "class System(Analysis):\n",
    "    def __init__(self, graph_location):\n",
    "        super().__init__(graph_location)\n",
    "\n",
    "    def new_system2(self, t, Y, *params):\n",
    "        e_matrix, v_matrix, K_matrix, r_matrix, tau_matrix, B_matrix, M, dimension = params\n",
    "        def g(N, v, K):\n",
    "            return (N @ v) / (N + K)\n",
    "        N = Y[:dimension]\n",
    "        U = Y[dimension:dimension*2]\n",
    "        I = Y[dimension*2:dimension*2 + dimension*M].reshape(dimension, M)\n",
    "        P = Y[dimension*2 + dimension*M:]\n",
    "        new_N = (e_matrix @ g(N, v_matrix, K_matrix)) @ (U + np.sum(I, axis=1))\n",
    "        new_U = (g(N, v_matrix, K_matrix) @ U) - ((r_matrix @ U) * P)\n",
    "        M_tau = np.nan_to_num(M / tau_matrix, nan=0, posinf=0, neginf=0)\n",
    "        new_I = np.zeros_like(I)\n",
    "        for column in range(M):\n",
    "            if column == 0:\n",
    "                new_I[:, column] = ((r_matrix @ U) @ P) - (M_tau @ I[:, column])\n",
    "            else:\n",
    "                new_I[:, column] = M_tau @ (I[:, column] - I[:, column-1])\n",
    "        new_P = ((B_matrix @ M_tau) @ I[:, -1]) - ((r_matrix @ (U + np.sum(I, axis=1))) @ P)\n",
    "        flattened_y1 = self.flatten_lists_and_matrices(new_N, new_U, new_I, new_P)\n",
    "        return self.check_cutoff(flattened_y1, dimension)\n",
    "\n",
    "# graph = GraphMakerGUI()\n",
    "# graph.export_graph('example.gexf')\n",
    "\n",
    "graph = System('example.gexf')\n",
    "phage_nodes = graph.get_nodes_of_type('P')\n",
    "bacteria_nodes = graph.get_nodes_of_type('B')\n",
    "resource_nodes = graph.get_nodes_of_type('R')\n",
    "environemnt_nodes = graph.get_nodes_of_type('E')\n",
    "\n",
    "R0 = graph.initialize_initial_concentration(resource_nodes)\n",
    "U0 = graph.initialize_initial_population(bacteria_nodes)\n",
    "I0 = graph.initialize_new_matrix(graph.max_length, graph.M)\n",
    "P0 = graph.initialize_initial_population(phage_nodes)\n",
    "e_matrix = graph.initialize_new_parameter_from_edges(bacteria_nodes, resource_nodes, 'e')\n",
    "v_matrix = graph.initialize_new_parameter_from_edges(bacteria_nodes, resource_nodes, 'v')\n",
    "K_matrix = graph.initialize_new_parameter_from_edges(bacteria_nodes, resource_nodes, 'K')\n",
    "r_matrix = graph.initialize_new_parameter_from_edges(bacteria_nodes, phage_nodes, 'r')\n",
    "tau_matrix = graph.initialize_new_parameter_from_edges(bacteria_nodes, phage_nodes, 'tau')\n",
    "B_matrix = graph.initialize_new_parameter_from_edges(bacteria_nodes, phage_nodes, 'Burst_Size')\n",
    "\n",
    "y0_flattened = graph.flatten_lists_and_matrices(R0, U0, I0, P0)\n",
    "solved_system = graph.solve_system(graph.new_system2, y0_flattened, e_matrix, v_matrix, K_matrix, r_matrix, tau_matrix, B_matrix, int(graph.M), graph.max_length)\n",
    "\n",
    "solved_y = solved_system.y\n",
    "new_N = solved_y[:graph.max_length]\n",
    "new_U = solved_y[graph.max_length:graph.max_length*2]\n",
    "new_I = solved_y[graph.max_length*2:graph.max_length*2 + graph.max_length*int(graph.M)]\n",
    "new_P = solved_y[graph.max_length*2 + graph.max_length*int(graph.M):]\n",
    "print(new_N)"
   ]
  },
  {
   "cell_type": "code",
   "execution_count": 2,
   "id": "aaccecc2",
   "metadata": {},
   "outputs": [
    {
     "name": "stderr",
     "output_type": "stream",
     "text": [
      "2025-02-11 15:55:11.000 WARNING streamlit.runtime.scriptrunner_utils.script_run_context: Thread 'MainThread': missing ScriptRunContext! This warning can be ignored when running in bare mode.\n",
      "2025-02-11 15:55:11.076 \n",
      "  \u001b[33m\u001b[1mWarning:\u001b[0m to view this Streamlit app on a browser, run it with the following\n",
      "  command:\n",
      "\n",
      "    streamlit run /Library/Frameworks/Python.framework/Versions/3.11/lib/python3.11/site-packages/ipykernel_launcher.py [ARGUMENTS]\n",
      "2025-02-11 15:55:11.077 Thread 'MainThread': missing ScriptRunContext! This warning can be ignored when running in bare mode.\n",
      "2025-02-11 15:55:11.077 Thread 'MainThread': missing ScriptRunContext! This warning can be ignored when running in bare mode.\n",
      "2025-02-11 15:55:11.077 Thread 'MainThread': missing ScriptRunContext! This warning can be ignored when running in bare mode.\n"
     ]
    }
   ],
   "source": [
    "import streamlit as st\n",
    "st.write(\"Hello\")\n"
   ]
  },
  {
   "cell_type": "code",
   "execution_count": null,
   "id": "ef85b2d2",
   "metadata": {},
   "outputs": [
    {
     "name": "stderr",
     "output_type": "stream",
     "text": [
      "2025-02-17 21:47:31.561 Python[61452:7222936] +[IMKClient subclass]: chose IMKClient_Modern\n",
      "2025-02-17 21:47:31.561 Python[61452:7222936] +[IMKInputSession subclass]: chose IMKInputSession_Modern\n"
     ]
    },
    {
     "name": "stdout",
     "output_type": "stream",
     "text": [
      "/Users/vicpi/Documents/GitHub/Master Thesis/example.gexf/Users/vicpi/Documents/GitHub/Master Thesis/example.gexf\n"
     ]
    },
    {
     "name": "stderr",
     "output_type": "stream",
     "text": [
      "Exception in Tkinter callback\n",
      "Traceback (most recent call last):\n",
      "  File \"/Library/Frameworks/Python.framework/Versions/3.11/lib/python3.11/tkinter/__init__.py\", line 1948, in __call__\n",
      "    return self.func(*args)\n",
      "           ^^^^^^^^^^^^^^^^\n",
      "  File \"/Users/vicpi/Documents/GitHub/Master Thesis/Classes/GraphMakerGUI.py\", line 132, in import_graph_from_file\n",
      "    return super().import_graph_from_file(file_name)\n",
      "           ^^^^^^^^^^^^^^^^^^^^^^^^^^^^^^^^^^^^^^^^^\n",
      "  File \"/Users/vicpi/Documents/GitHub/Master Thesis/Classes/GraphMaker.py\", line 271, in import_graph_from_file\n",
      "    self.graph = nx.read_gexf(file_name)\n",
      "                 ^^^^^^^^^^^^^^^^^^^^^^^\n",
      "  File \"/Library/Frameworks/Python.framework/Versions/3.11/lib/python3.11/site-packages/networkx/utils/decorators.py\", line 789, in func\n",
      "    return argmap._lazy_compile(__wrapper)(*args, **kwargs)\n",
      "           ^^^^^^^^^^^^^^^^^^^^^^^^^^^^^^^^^^^^^^^^^^^^^^^^\n",
      "  File \"<class 'networkx.utils.decorators.argmap'> compilation 10\", line 3, in argmap_read_gexf_5\n",
      "    import gzip\n",
      "                \n",
      "  File \"/Library/Frameworks/Python.framework/Versions/3.11/lib/python3.11/site-packages/networkx/utils/decorators.py\", line 199, in _open_file\n",
      "    fobj = _dispatch_dict[ext](path, mode=mode)\n",
      "           ^^^^^^^^^^^^^^^^^^^^^^^^^^^^^^^^^^^^\n",
      "NotADirectoryError: [Errno 20] Not a directory: '/Users/vicpi/Documents/GitHub/Master Thesis/example.gexf/Users/vicpi/Documents/GitHub/Master Thesis/example.gexf'\n"
     ]
    },
    {
     "name": "stdout",
     "output_type": "stream",
     "text": [
      "/Users/vicpi/Documents/GitHub/Master Thesis/example.gexf\n"
     ]
    }
   ],
   "source": [
    "from Classes.GraphMakerGUI import GraphMakerGUI\n",
    "gui = GraphMakerGUI()"
   ]
  },
  {
   "cell_type": "code",
   "execution_count": null,
   "id": "443c9aeb",
   "metadata": {},
   "outputs": [],
   "source": []
  }
 ],
 "metadata": {
  "kernelspec": {
   "display_name": "Python 3",
   "language": "python",
   "name": "python3"
  },
  "language_info": {
   "codemirror_mode": {
    "name": "ipython",
    "version": 3
   },
   "file_extension": ".py",
   "mimetype": "text/x-python",
   "name": "python",
   "nbconvert_exporter": "python",
   "pygments_lexer": "ipython3",
   "version": "3.11.6"
  }
 },
 "nbformat": 4,
 "nbformat_minor": 5
}
