{
 "cells": [
  {
   "cell_type": "code",
   "execution_count": 1,
   "id": "11b38c2b",
   "metadata": {},
   "outputs": [
    {
     "name": "stderr",
     "output_type": "stream",
     "text": [
      "2025-02-03 20:04:55.669 Python[97244:1443907] +[IMKClient subclass]: chose IMKClient_Modern\n",
      "2025-02-03 20:04:55.669 Python[97244:1443907] +[IMKInputSession subclass]: chose IMKInputSession_Modern\n"
     ]
    },
    {
     "ename": "",
     "evalue": "",
     "output_type": "error",
     "traceback": [
      "\u001b[1;31mThe Kernel crashed while executing code in the current cell or a previous cell. \n",
      "\u001b[1;31mPlease review the code in the cell(s) to identify a possible cause of the failure. \n",
      "\u001b[1;31mClick <a href='https://aka.ms/vscodeJupyterKernelCrash'>here</a> for more info. \n",
      "\u001b[1;31mView Jupyter <a href='command:jupyter.viewOutput'>log</a> for further details."
     ]
    }
   ],
   "source": [
    "import numpy as np\n",
    "from Classes.Analysis import Analysis\n",
    "from Classes.GraphMaker import GraphMaker\n",
    "\n",
    "class System(Analysis):\n",
    "    def __init__(self, graph_location):\n",
    "        super().__init__(graph_location)\n",
    "\n",
    "    def new_system2(self, t, Y, *params):\n",
    "        e_matrix, v_matrix, K_matrix, r_matrix, tau_matrix, B_matrix, M, dimension = params\n",
    "        def g(N, v, K):\n",
    "            print(K_matrix.size)\n",
    "            return (N @ v) / (N + K)\n",
    "        N = Y[:dimension]\n",
    "        U = Y[dimension:dimension*2]\n",
    "        I = Y[dimension*2:dimension*2 + dimension*M].reshape(dimension, M)\n",
    "        P = Y[dimension*2 + dimension*M:]\n",
    "        new_N = (e_matrix @ g(N, v_matrix, K_matrix)) @ (U + np.sum(I, axis=1))\n",
    "        new_U = (g(N, v_matrix, K_matrix) @ U) - ((r_matrix @ U) * P)\n",
    "        M_tau = np.nan_to_num(M / tau_matrix, nan=0, posinf=0, neginf=0)\n",
    "        new_I = np.zeros_like(I)\n",
    "        for column in range(M):\n",
    "            if column == 0:\n",
    "                new_I[:, column] = ((r_matrix @ U) @ P) - (M_tau @ I[:, column])\n",
    "            else:\n",
    "                new_I[:, column] = M_tau[:, column] @ (I[:, column] - I[:, column-1])\n",
    "        new_P = ((B_matrix @ M_tau) @ I[:, -1]) - ((r_matrix @ (U + np.sum(I, axis=1))) @ P)\n",
    "        flattened_y1 = self.flatten_lists_and_matrices(new_N, new_U, new_I, new_P)\n",
    "        return self.check_cutoff(flattened_y1, dimension)\n",
    "\n",
    "graph = GraphMaker()\n",
    "graph = graph.graph\n",
    "\n",
    "graph = System('example.gexf')\n",
    "phage_nodes = graph.get_nodes_of_type('P')\n",
    "bacteria_nodes = graph.get_nodes_of_type('B')\n",
    "resource_nodes = graph.get_nodes_of_type('R')\n",
    "environemnt_nodes = graph.get_nodes_of_type('E')\n",
    "\n",
    "R0 = graph.initialize_initial_concentration(resource_nodes)\n",
    "U0 = graph.initialize_initial_population(bacteria_nodes)\n",
    "I0 = graph.initialize_new_matrix(graph.max_length, graph.M)\n",
    "P0 = graph.initialize_initial_population(phage_nodes)\n",
    "e_matrix = graph.initialize_new_parameter_from_edges(bacteria_nodes, resource_nodes, 'e')\n",
    "v_matrix = graph.initialize_new_parameter_from_edges(bacteria_nodes, resource_nodes, 'v')\n",
    "K_matrix = graph.initialize_new_parameter_from_edges(bacteria_nodes, resource_nodes, 'K')\n",
    "r_matrix = graph.initialize_new_parameter_from_edges(bacteria_nodes, phage_nodes, 'r')\n",
    "tau_matrix = graph.initialize_new_parameter_from_edges(bacteria_nodes, phage_nodes, 'tau')\n",
    "B_matrix = graph.initialize_new_parameter_from_edges(bacteria_nodes, phage_nodes, 'Burst Size')\n",
    "\n",
    "y0_flattened = graph.flatten_lists_and_matrices(R0, U0, I0, P0)\n",
    "\n",
    "solved_system = graph.solve_system(graph.new_system2, y0_flattened, e_matrix, v_matrix, K_matrix, r_matrix, tau_matrix, B_matrix, int(graph.M), graph.max_length)\n",
    "\n",
    "solved_y = solved_system.y\n",
    "new_N = solved_y[:graph.max_length]\n",
    "new_U = solved_y[graph.max_length:graph.max_length*2]\n",
    "new_I = solved_y[graph.max_length*2:graph.max_length*2 + graph.max_length*int(graph.M)]\n",
    "new_P = solved_y[graph.max_length*2 + graph.max_length*int(graph.M):]"
   ]
  },
  {
   "cell_type": "code",
   "execution_count": null,
   "id": "aaccecc2",
   "metadata": {},
   "outputs": [],
   "source": []
  }
 ],
 "metadata": {
  "kernelspec": {
   "display_name": "Python 3",
   "language": "python",
   "name": "python3"
  },
  "language_info": {
   "codemirror_mode": {
    "name": "ipython",
    "version": 3
   },
   "file_extension": ".py",
   "mimetype": "text/x-python",
   "name": "python",
   "nbconvert_exporter": "python",
   "pygments_lexer": "ipython3",
   "version": "3.11.6"
  }
 },
 "nbformat": 4,
 "nbformat_minor": 5
}
