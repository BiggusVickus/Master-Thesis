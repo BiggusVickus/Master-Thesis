{
 "cells": [
  {
   "cell_type": "code",
   "execution_count": 1,
   "id": "2164a41d-3ebc-4589-a639-2ffcd49fa0e3",
   "metadata": {},
   "outputs": [],
   "source": [
    "import networkx as nx\n",
    "import numpy as np\n",
    "from scipy.integrate import odeint, solve_ivp\n",
    "from copy import copy, deepcopy\n",
    "import sys\n",
    "np.set_printoptions(threshold=sys.maxsize)\n",
    "import matplotlib.pyplot as plt\n",
    "import time as time\n",
    "from Classes.Analysis import Analysis"
   ]
  },
  {
   "cell_type": "code",
   "execution_count": 2,
   "id": "11b38c2b",
   "metadata": {},
   "outputs": [
    {
     "name": "stdout",
     "output_type": "stream",
     "text": [
      "Graph with 10 nodes and 9 edges\n",
      "['B_node_names', 'E_node_names', 'M', 'P_node_names', 'R_node_names', 'Simulation Time', 'Temperature', 'Time Step', '__class__', '__delattr__', '__dict__', '__dir__', '__doc__', '__eq__', '__format__', '__ge__', '__getattribute__', '__getstate__', '__gt__', '__hash__', '__init__', '__init_subclass__', '__le__', '__lt__', '__module__', '__ne__', '__new__', '__reduce__', '__reduce_ex__', '__repr__', '__setattr__', '__sizeof__', '__str__', '__subclasshook__', '__weakref__', 'add_environment_data', 'get_initial_pop_conc_of_nodes', 'get_nodes_of_type', 'graph', 'graph_location', 'load_graph', 'max_of_node_type', 'pH', 'turn_string_to_dictionary']\n"
     ]
    }
   ],
   "source": [
    "def read_graph(filename):\n",
    "    return nx.read_gexf(filename)\n",
    "\n",
    "def filter_node_type(graph, node_type):\n",
    "    return [n for n in graph.nodes if graph.nodes[n]['node_type'] == node_type]\n",
    "\n",
    "def turn_string_to_dictionary(string):\n",
    "    dictionary = {}\n",
    "    for row in string.split('\\n'):\n",
    "        row = row.split(':')\n",
    "        if len(row) == 2:\n",
    "            dictionary[row[0]] = row[1]\n",
    "    return dictionary\n",
    "\n",
    "graph = read_graph('example.gexf')\n",
    "phage_nodes = filter_node_type(graph, 'P')\n",
    "bacteria_nodes = filter_node_type(graph, 'B')\n",
    "resource_nodes = filter_node_type(graph, 'R')\n",
    "environemnt_nodes = filter_node_type(graph, 'E')\n",
    "environemnt_data = turn_string_to_dictionary(graph.nodes[environemnt_nodes[0]]['data'])\n",
    "simulation_time = round(float(environemnt_data['Simulation Time']))\n",
    "time_step = float(environemnt_data['Time Step'])\n",
    "M = int(environemnt_data['M'])\n",
    "max_length = max(len(phage_nodes), len(bacteria_nodes), len(resource_nodes))\n",
    "\n",
    "N_initial = np.zeros(max_length)\n",
    "U_initial = np.zeros(max_length)\n",
    "I_initial = np.zeros((max_length, M))\n",
    "P_initial = np.zeros(max_length)\n",
    "\n",
    "for i, node in enumerate(phage_nodes):\n",
    "    data = turn_string_to_dictionary(graph.nodes[node]['data'])\n",
    "    P_initial[i] = float(data['Initial Population'])\n",
    "for i, node in enumerate(bacteria_nodes):\n",
    "    data = turn_string_to_dictionary(graph.nodes[node]['data'])\n",
    "    U_initial[i] = float(data['Initial Population'])\n",
    "for i, node in enumerate(resource_nodes):\n",
    "    data = turn_string_to_dictionary(graph.nodes[node]['data'])\n",
    "    N_initial[i] = float(data['Initial Concentration'])\n",
    "\n",
    "e_matrix = np.zeros((max_length, max_length))\n",
    "v_matrix = np.zeros((max_length, max_length))\n",
    "r_matrix = np.zeros((max_length, max_length))\n",
    "K_matrix = np.zeros((max_length, max_length))\n",
    "M_matrix = np.zeros((max_length, max_length))\n",
    "tau_matrix = np.zeros((max_length, max_length))\n",
    "B_matrix = np.zeros((max_length, max_length))\n",
    "for u, v, d in graph.edges(data=True):\n",
    "    if u in resource_nodes and v in bacteria_nodes or u in bacteria_nodes and v in resource_nodes:\n",
    "        if(u in resource_nodes):\n",
    "            u_index = resource_nodes.index(u)\n",
    "            v_index = bacteria_nodes.index(v)\n",
    "        else:\n",
    "            u_index = resource_nodes.index(v)\n",
    "            v_index = bacteria_nodes.index(u)\n",
    "        e_matrix[u_index, v_index] = float(turn_string_to_dictionary(d['data'])['e'])\n",
    "        v_matrix[u_index, v_index] = float(turn_string_to_dictionary(d['data'])['v'])\n",
    "        K_matrix[u_index, v_index] = float(turn_string_to_dictionary(d['data'])['K'])\n",
    "    elif u in phage_nodes and v in bacteria_nodes or u in bacteria_nodes and v in phage_nodes:\n",
    "        if(u in phage_nodes):\n",
    "            u_index = phage_nodes.index(u)\n",
    "            v_index = bacteria_nodes.index(v)\n",
    "        else:\n",
    "            u_index = phage_nodes.index(v)\n",
    "            v_index = bacteria_nodes.index(u)\n",
    "        r_matrix[u_index, v_index] = float(turn_string_to_dictionary(d['data'])['r'])\n",
    "        tau_matrix[u_index, v_index] = float(turn_string_to_dictionary(d['data'])['tau'])\n",
    "        B_matrix[u_index, v_index] = float(turn_string_to_dictionary(d['data'])['Burst Size'])\n",
    "\n",
    "simulation_time = 2\n",
    "time_step = 0.1\n",
    "t = np.linspace(0, round(simulation_time), abs(round(simulation_time/time_step) + 1))\n",
    "y0_flattened = np.concatenate([N_initial.flatten(), U_initial.flatten(), I_initial.flatten(), P_initial.flatten()])"
   ]
  },
  {
   "cell_type": "code",
   "execution_count": 5,
   "id": "38bb302e",
   "metadata": {},
   "outputs": [
    {
     "name": "stdout",
     "output_type": "stream",
     "text": [
      "[[11.         13.70702514 75.35081498]\n",
      " [12.          9.29298643  4.1260307 ]\n",
      " [13.         12.82138335 12.52158846]\n",
      " [ 0.         -0.47012081 -1.21561703]]\n"
     ]
    },
    {
     "name": "stderr",
     "output_type": "stream",
     "text": [
      "/var/folders/gg/_vl162cs4zs99kls4stdr7xc0000gn/T/ipykernel_4313/119910788.py:8: RuntimeWarning: divide by zero encountered in divide\n",
      "  M_tau = np.nan_to_num(M / tau_matrix, nan=0, posinf=0, neginf=0)\n"
     ]
    }
   ],
   "source": [
    "def new_system2(t, Y, M, e_matrix, v_matrix, K_matrix, r_matrix, tau_matrix, B_matrix, dimension):\n",
    "    N = Y[:dimension]\n",
    "    U = Y[dimension:dimension*2]\n",
    "    I = Y[dimension*2:dimension*2 + dimension*M].reshape(dimension, M)\n",
    "    P = Y[dimension*2 + dimension*M:]\n",
    "    new_N = (e_matrix @ g(N, v_matrix, K_matrix)) @ (U + np.sum(I, axis=1))\n",
    "    new_U = (g(N, v_matrix, K_matrix) @ U) - ((r_matrix @ U) * P)\n",
    "    M_tau = np.nan_to_num(M / tau_matrix, nan=0, posinf=0, neginf=0)\n",
    "    new_I = np.zeros_like(I)\n",
    "    for column in range(M):\n",
    "        if column == 0:\n",
    "            new_I[:, column] = ((r_matrix @ U) @ P) - (M_tau @ I[:, column])\n",
    "        else:\n",
    "            new_I[:, column] = M_tau[:, column] @ (I[:, column] - I[:, column-1])\n",
    "    new_P = ((B_matrix @ M_tau) @ I[:, -1]) - ((r_matrix @ (U + np.sum(I, axis=1))) @ P)\n",
    "    y0_flattened = np.concatenate([new_N.flatten(), new_U.flatten(), new_I.flatten(), new_P.flatten()])\n",
    "\n",
    "    return y0_flattened\n",
    "\n",
    "def g(N, v, K):\n",
    "    return (N @ v) / (N + K)\n",
    "\n",
    "time3 = time.time()\n",
    "solved = solve_ivp(new_system2, (0, simulation_time), y0_flattened, args=(M, e_matrix, v_matrix, K_matrix, r_matrix, tau_matrix, B_matrix, max_length), t_eval=t)\n",
    "time4 = time.time()\n",
    "total_time_taken = time4 - time3\n",
    "solved_y = solved.y\n",
    "N = solved_y[:max_length]\n",
    "U = solved_y[max_length:max_length*2]\n",
    "I = solved_y[max_length*2:max_length*2 + max_length*M]\n",
    "P = solved_y[max_length*2 + max_length*M:]\n",
    "print(U)"
   ]
  },
  {
   "cell_type": "code",
   "execution_count": null,
   "id": "cf55ffb9",
   "metadata": {},
   "outputs": [],
   "source": []
  }
 ],
 "metadata": {
  "kernelspec": {
   "display_name": "Python 3",
   "language": "python",
   "name": "python3"
  },
  "language_info": {
   "codemirror_mode": {
    "name": "ipython",
    "version": 3
   },
   "file_extension": ".py",
   "mimetype": "text/x-python",
   "name": "python",
   "nbconvert_exporter": "python",
   "pygments_lexer": "ipython3",
   "version": "3.11.6"
  }
 },
 "nbformat": 4,
 "nbformat_minor": 5
}
