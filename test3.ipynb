{
 "cells": [
  {
   "cell_type": "code",
   "execution_count": 6,
   "metadata": {},
   "outputs": [],
   "source": [
    "from Classes.Analysis import Analysis\n",
    "import numpy as np\n",
    "from matplotlib import pyplot as plt\n",
    "from Classes.Visualizer import Visualizer\n",
    "\n",
    "class System(Analysis):\n",
    "    def __init__(self, graph_location):\n",
    "        super().__init__(graph_location)\n",
    "\n",
    "    def odesystem(self, t, Y, *params):\n",
    "        #TODO: look at biology side, try to replicate graphs\n",
    "        #TODO: explore the model(s)\n",
    "        # start simple, bacteria-resource, see how the bacteria and reosurces grow/shrink, bacteria should hit carrying capacity, nutrient should reach 0, not negative, etc\n",
    "        graph_object, phage_nodes, bacteria_nodes, nutrient_nodes, M, e_vector, tau_vector, v_matrix, K_matrix, r_matrix, B_matrix = params\n",
    "        graph = graph_object.graph\n",
    "        def g(N, v, K):\n",
    "            return (N * v) / (N + K)\n",
    "\n",
    "        Y = self.check_cutoff(Y)\n",
    "        \n",
    "        N, U, I, P = self.unflatten_initial_matrix(Y, [len(nutrient_nodes), len(bacteria_nodes), (len(bacteria_nodes), M), len(phage_nodes)])\n",
    "        new_N = np.zeros_like(N)\n",
    "        new_U = np.zeros_like(U)\n",
    "        new_I = np.zeros_like(I)\n",
    "        new_P = np.zeros_like(P)\n",
    "        #update N vector\n",
    "        for nutrient in nutrient_nodes:\n",
    "            n_index = nutrient_nodes.index(nutrient)\n",
    "            e_value = e_vector[n_index] \n",
    "            sum_g = 0\n",
    "            sum_u = 0\n",
    "            sum_i = 0\n",
    "            for bacteria in bacteria_nodes:\n",
    "                b_index = bacteria_nodes.index(bacteria)\n",
    "                if graph.has_edge(bacteria, nutrient):\n",
    "                    v = v_matrix[b_index, n_index]\n",
    "                    K = K_matrix[b_index, n_index]\n",
    "                    sum_g += g(N[n_index], v, K)\n",
    "                    sum_u += U[b_index]\n",
    "                    sum_i += np.sum(I[b_index])\n",
    "            new_N[n_index] = -(e_value * sum_g) * (sum_u + sum_i)\n",
    "        \n",
    "        # update U vector, i, and j are flipped relative to what is seen in update N vector for v, K, and r matrices because of how the row and columns are defined in the graph\n",
    "        # dont sum U in left and right, because we are looking at an individual bacteria\n",
    "        for uninfected in bacteria_nodes:\n",
    "            u_index = bacteria_nodes.index(uninfected)\n",
    "            g_sum = 0\n",
    "            right = 0\n",
    "            for nutrient in nutrient_nodes:\n",
    "                n_index = nutrient_nodes.index(nutrient)\n",
    "                if graph.has_edge(uninfected, nutrient):\n",
    "                    g_sum += g(N[n_index], v_matrix[u_index, n_index], K_matrix[u_index, n_index])\n",
    "            for phage in phage_nodes:\n",
    "                p_index = phage_nodes.index(phage)\n",
    "                if graph.has_edge(phage, uninfected):\n",
    "                    right += r_matrix[p_index, u_index] * P[p_index]\n",
    "            new_U[u_index] = g_sum * U[u_index] - right * U[u_index]\n",
    "\n",
    "        for infected in bacteria_nodes:\n",
    "            i_index = bacteria_nodes.index(infected)\n",
    "            for infected_stage in range(0, M):\n",
    "                if infected_stage == 0:\n",
    "                    left_sum = 0\n",
    "                    right_sum = 0\n",
    "                    for phage in phage_nodes:\n",
    "                        p_index = phage_nodes.index(phage)\n",
    "                        if graph.has_edge(phage, infected):\n",
    "                            left_sum += r_matrix[p_index, i_index] * P[p_index]\n",
    "                            right_sum += M / tau_vector[i_index] * I[i_index, 0]\n",
    "                    new_I[i_index, 0] = left_sum * U[i_index] - right_sum\n",
    "                else:\n",
    "                    m_tau = M / tau_vector[i_index]\n",
    "                    right = I[i_index, infected_stage - 1] - I[i_index, infected_stage]\n",
    "                    new_I[i_index, infected_stage] = m_tau * right\n",
    "        \n",
    "        for phage in phage_nodes:\n",
    "            p_index = phage_nodes.index(phage)\n",
    "            left_sum = 0\n",
    "            right_sum = 0\n",
    "            for infected in bacteria_nodes:\n",
    "                i_index = bacteria_nodes.index(infected)\n",
    "                if graph.has_edge(phage, infected):\n",
    "                    left_sum += B_matrix[p_index, i_index] * M / tau_vector[i_index] * I[i_index, -1]\n",
    "                    right_sum += r_matrix[p_index, i_index] * (U[i_index] + np.sum(I[i_index])) * P[p_index]\n",
    "            new_P[p_index] = left_sum - right_sum\n",
    "\n",
    "        flattened_y1 = self.flatten_lists_and_matrices(new_N, new_U, new_I, new_P)\n",
    "        return flattened_y1"
   ]
  },
  {
   "cell_type": "code",
   "execution_count": null,
   "metadata": {},
   "outputs": [],
   "source": [
    "graph = System('simple_test_2.gexf')\n",
    "phage_nodes = graph.get_nodes_of_type('P')\n",
    "bacteria_nodes = graph.get_nodes_of_type('B')\n",
    "resource_nodes = graph.get_nodes_of_type('R')\n",
    "environemnt_nodes = graph.get_nodes_of_type('E')\n",
    "\n",
    "R0 = graph.initialize_new_parameter_from_node(resource_nodes, \"Initial_Concentration\")\n",
    "U0 = graph.initialize_new_parameter_from_node(bacteria_nodes, \"Initial_Population\")\n",
    "I0 = graph.initialize_new_matrix(len(U0), graph.M)\n",
    "P0 = graph.initialize_new_parameter_from_node(phage_nodes, \"Initial_Population\")\n",
    "\n",
    "e_vector = graph.initialize_new_parameter_from_node(resource_nodes, 'e')\n",
    "tau_vector = graph.initialize_new_parameter_from_node(bacteria_nodes, 'tau')\n",
    "v_matrix = graph.initialize_new_parameter_from_edges(bacteria_nodes, resource_nodes, 'v')\n",
    "K_matrix = graph.initialize_new_parameter_from_edges(bacteria_nodes, resource_nodes, 'K')\n",
    "r_matrix = graph.initialize_new_parameter_from_edges(phage_nodes, bacteria_nodes, 'r')\n",
    "B_matrix = graph.initialize_new_parameter_from_edges(phage_nodes, bacteria_nodes, 'Burst_Size')\n",
    "visualizer = Visualizer(graph)"
   ]
  },
  {
   "cell_type": "code",
   "execution_count": 8,
   "metadata": {},
   "outputs": [],
   "source": [
    "new_graphing_data = [R0, U0, I0, P0]\n",
    "flattened = graph.flatten_lists_and_matrices(*new_graphing_data)\n",
    "new_non_graphing_data_vectors = [e_vector, tau_vector]\n",
    "new_non_graphing_data_matrices = [v_matrix, K_matrix, r_matrix, B_matrix]\n",
    "\n",
    "solved_system = graph.solve_system(graph.odesystem, flattened, graph, *[phage_nodes, bacteria_nodes, resource_nodes, int(graph.M)], *new_non_graphing_data_vectors, *new_non_graphing_data_matrices)\n",
    "solved_y = solved_system.y\n",
    "overall_y = graph.unflatten_initial_matrix(solved_system.y, [len(resource_nodes), len(bacteria_nodes), int(graph.M), len(phage_nodes)])\n",
    "overall_y[2] = visualizer.sum_up_columns(overall_y[2], int(graph.M))"
   ]
  },
  {
   "cell_type": "code",
   "execution_count": 18,
   "metadata": {},
   "outputs": [
    {
     "data": {
      "image/png": "[encoded data removed]",
      "text/plain": [
       "<Figure size 640x480 with 1 Axes>"
      ]
     },
     "metadata": {},
     "output_type": "display_data"
    },
    {
     "data": {
      "text/plain": [
       "<matplotlib.legend.Legend at 0x33ab8e110>"
      ]
     },
     "execution_count": 18,
     "metadata": {},
     "output_type": "execute_result"
    },
    {
     "data": {
      "image/png": "[encoded data removed]",
      "text/plain": [
       "<Figure size 640x480 with 1 Axes>"
      ]
     },
     "metadata": {},
     "output_type": "display_data"
    }
   ],
   "source": [
    "new_graphing_data = [R0, U0, I0, P0]\n",
    "flattened = graph.flatten_lists_and_matrices(*new_graphing_data)\n",
    "new_non_graphing_data_vectors = [e_vector, tau_vector]\n",
    "new_non_graphing_data_matrices = [v_matrix, K_matrix, r_matrix, B_matrix]\n",
    "\n",
    "solved_system = graph.solve_system(graph.odesystem, flattened, graph, *[phage_nodes, bacteria_nodes, resource_nodes, int(graph.M)], *new_non_graphing_data_vectors, *new_non_graphing_data_matrices)\n",
    "solved_y = solved_system.y\n",
    "overall_y = graph.unflatten_initial_matrix(solved_system.y, [len(resource_nodes), len(bacteria_nodes), int(graph.M), len(phage_nodes)])\n",
    "overall_y[2] = visualizer.sum_up_columns(overall_y[2], int(graph.M))\n",
    "new_overall_y = [overall_y[i][0] for i in range(len(overall_y))]\n",
    "number_time_steps_to_show = 50\n",
    "solved_t = solved_system.t\n",
    "solved_t_new = solved_t[:number_time_steps_to_show]\n",
    "for i in range(len(new_overall_y)):\n",
    "    new_overall_y[i] = new_overall_y[i][:number_time_steps_to_show]\n",
    "fig = plt.figure()\n",
    "ax = fig.add_subplot(2, 1, 1)\n",
    "\n",
    "new_overall_y = new_overall_y[1:4]\n",
    "line = ax.stackplot(solved_t_new, new_overall_y, labels=[\"resource\", \"uninfected bacteria\", \"infected bacteria\", \"phage\"])\n",
    "\n",
    "ax.set_yscale('log')\n",
    "# plt.stackplot(solved_t_new, new_overall_y, labels=[\"resource\", \"uninfected bacteria\", \"infected bacteria\", \"phage\"])\n",
    "# plt.set_yscale('log')\n",
    "# plt.legend()\n",
    "plt.show()\n",
    "\n",
    "new_overall_y = np.array(new_overall_y)\n",
    "column_sums = new_overall_y.sum(axis=0)\n",
    "new_overall_y = new_overall_y / column_sums\n",
    "plt.stackplot(solved_t_new, new_overall_y, labels=[\"resource\", \"uninfected bacteria\", \"infected bacteria\", \"phage\"])\n",
    "plt.legend(loc='upper right')\n",
    "# plots from https://enviromicro-journals.onlinelibrary.wiley.com/doi/full/10.1111/1462-2920.13743\n",
    "# TODO: remove resources form grpahs below"
   ]
  },
  {
   "cell_type": "code",
   "execution_count": null,
   "metadata": {},
   "outputs": [],
   "source": []
  }
 ],
 "metadata": {
  "kernelspec": {
   "display_name": "Python 3",
   "language": "python",
   "name": "python3"
  },
  "language_info": {
   "codemirror_mode": {
    "name": "ipython",
    "version": 3
   },
   "file_extension": ".py",
   "mimetype": "text/x-python",
   "name": "python",
   "nbconvert_exporter": "python",
   "pygments_lexer": "ipython3",
   "version": "3.11.6"
  }
 },
 "nbformat": 4,
 "nbformat_minor": 2
}
