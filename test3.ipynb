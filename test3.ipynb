{
 "cells": [
  {
   "cell_type": "code",
   "execution_count": 6,
   "metadata": {},
   "outputs": [],
   "source": [
    "from Classes.Analysis import Analysis\n",
    "import numpy as np\n",
    "from matplotlib import pyplot as plt\n",
    "from Classes.Visualizer import Visualizer\n",
    "\n",
    "class System(Analysis):\n",
    "    def __init__(self, graph_location):\n",
    "        super().__init__(graph_location)\n",
    "\n",
    "    def odesystem(self, t, Y, *params):\n",
    "        #TODO: look at biology side, try to replicate graphs\n",
    "        #TODO: explore the model(s)\n",
    "        # start simple, bacteria-resource, see how the bacteria and reosurces grow/shrink, bacteria should hit carrying capacity, nutrient should reach 0, not negative, etc\n",
    "        graph_object, phage_nodes, bacteria_nodes, nutrient_nodes, M, e_vector, tau_vector, v_matrix, K_matrix, r_matrix, B_matrix = params\n",
    "        graph = graph_object.graph\n",
    "        def g(N, v, K):\n",
    "            return (N * v) / (N + K)\n",
    "\n",
    "        Y = self.check_cutoff(Y)\n",
    "        \n",
    "        N, U, I, P = self.unflatten_initial_matrix(Y, [len(nutrient_nodes), len(bacteria_nodes), (len(bacteria_nodes), M), len(phage_nodes)])\n",
    "        new_N = np.zeros_like(N)\n",
    "        new_U = np.zeros_like(U)\n",
    "        new_I = np.zeros_like(I)\n",
    "        new_P = np.zeros_like(P)\n",
    "        #update N vector\n",
    "        for nutrient in nutrient_nodes:\n",
    "            n_index = nutrient_nodes.index(nutrient)\n",
    "            e_value = e_vector[n_index] \n",
    "            sum_g = 0\n",
    "            sum_u = 0\n",
    "            sum_i = 0\n",
    "            for bacteria in bacteria_nodes:\n",
    "                b_index = bacteria_nodes.index(bacteria)\n",
    "                if graph.has_edge(bacteria, nutrient):\n",
    "                    v = v_matrix[b_index, n_index]\n",
    "                    K = K_matrix[b_index, n_index]\n",
    "                    sum_g += g(N[n_index], v, K)\n",
    "                    sum_u += U[b_index]\n",
    "                    sum_i += np.sum(I[b_index])\n",
    "            new_N[n_index] = -(e_value * sum_g) * (sum_u + sum_i)\n",
    "        \n",
    "        # update U vector, i, and j are flipped relative to what is seen in update N vector for v, K, and r matrices because of how the row and columns are defined in the graph\n",
    "        # dont sum U in left and right, because we are looking at an individual bacteria\n",
    "        for uninfected in bacteria_nodes:\n",
    "            u_index = bacteria_nodes.index(uninfected)\n",
    "            g_sum = 0\n",
    "            right = 0\n",
    "            for nutrient in nutrient_nodes:\n",
    "                n_index = nutrient_nodes.index(nutrient)\n",
    "                if graph.has_edge(uninfected, nutrient):\n",
    "                    g_sum += g(N[n_index], v_matrix[u_index, n_index], K_matrix[u_index, n_index])\n",
    "            for phage in phage_nodes:\n",
    "                p_index = phage_nodes.index(phage)\n",
    "                if graph.has_edge(phage, uninfected):\n",
    "                    right += r_matrix[p_index, u_index] * P[p_index]\n",
    "            new_U[u_index] = g_sum * U[u_index] - right * U[u_index]\n",
    "\n",
    "        for infected in bacteria_nodes:\n",
    "            i_index = bacteria_nodes.index(infected)\n",
    "            for infected_stage in range(0, M):\n",
    "                if infected_stage == 0:\n",
    "                    left_sum = 0\n",
    "                    right_sum = 0\n",
    "                    for phage in phage_nodes:\n",
    "                        p_index = phage_nodes.index(phage)\n",
    "                        if graph.has_edge(phage, infected):\n",
    "                            left_sum += r_matrix[p_index, i_index] * P[p_index]\n",
    "                            right_sum += M / tau_vector[i_index] * I[i_index, 0]\n",
    "                    new_I[i_index, 0] = left_sum * U[i_index] - right_sum\n",
    "                else:\n",
    "                    m_tau = M / tau_vector[i_index]\n",
    "                    right = I[i_index, infected_stage - 1] - I[i_index, infected_stage]\n",
    "                    new_I[i_index, infected_stage] = m_tau * right\n",
    "        \n",
    "        for phage in phage_nodes:\n",
    "            p_index = phage_nodes.index(phage)\n",
    "            left_sum = 0\n",
    "            right_sum = 0\n",
    "            for infected in bacteria_nodes:\n",
    "                i_index = bacteria_nodes.index(infected)\n",
    "                if graph.has_edge(phage, infected):\n",
    "                    left_sum += B_matrix[p_index, i_index] * M / tau_vector[i_index] * I[i_index, -1]\n",
    "                    right_sum += r_matrix[p_index, i_index] * (U[i_index] + np.sum(I[i_index])) * P[p_index]\n",
    "            new_P[p_index] = left_sum - right_sum\n",
    "\n",
    "        flattened_y1 = self.flatten_lists_and_matrices(new_N, new_U, new_I, new_P)\n",
    "        return flattened_y1"
   ]
  },
  {
   "cell_type": "code",
   "execution_count": null,
   "metadata": {},
   "outputs": [],
   "source": [
    "graph = System('simple_test_2.gexf')\n",
    "phage_nodes = graph.get_nodes_of_type('P')\n",
    "bacteria_nodes = graph.get_nodes_of_type('B')\n",
    "resource_nodes = graph.get_nodes_of_type('R')\n",
    "environemnt_nodes = graph.get_nodes_of_type('E')\n",
    "\n",
    "R0 = graph.initialize_new_parameter_from_node(resource_nodes, \"Initial_Concentration\")\n",
    "U0 = graph.initialize_new_parameter_from_node(bacteria_nodes, \"Initial_Population\")\n",
    "I0 = graph.initialize_new_matrix(len(U0), graph.M)\n",
    "P0 = graph.initialize_new_parameter_from_node(phage_nodes, \"Initial_Population\")\n",
    "\n",
    "e_vector = graph.initialize_new_parameter_from_node(resource_nodes, 'e')\n",
    "tau_vector = graph.initialize_new_parameter_from_node(bacteria_nodes, 'tau')\n",
    "v_matrix = graph.initialize_new_parameter_from_edges(bacteria_nodes, resource_nodes, 'v')\n",
    "K_matrix = graph.initialize_new_parameter_from_edges(bacteria_nodes, resource_nodes, 'K')\n",
    "r_matrix = graph.initialize_new_parameter_from_edges(phage_nodes, bacteria_nodes, 'r')\n",
    "B_matrix = graph.initialize_new_parameter_from_edges(phage_nodes, bacteria_nodes, 'Burst_Size')\n",
    "visualizer = Visualizer(graph)"
   ]
  },
  {
   "cell_type": "code",
   "execution_count": 8,
   "metadata": {},
   "outputs": [],
   "source": [
    "new_graphing_data = [R0, U0, I0, P0]\n",
    "flattened = graph.flatten_lists_and_matrices(*new_graphing_data)\n",
    "new_non_graphing_data_vectors = [e_vector, tau_vector]\n",
    "new_non_graphing_data_matrices = [v_matrix, K_matrix, r_matrix, B_matrix]\n",
    "\n",
    "solved_system = graph.solve_system(graph.odesystem, flattened, graph, *[phage_nodes, bacteria_nodes, resource_nodes, int(graph.M)], *new_non_graphing_data_vectors, *new_non_graphing_data_matrices)\n",
    "solved_y = solved_system.y\n",
    "overall_y = graph.unflatten_initial_matrix(solved_system.y, [len(resource_nodes), len(bacteria_nodes), int(graph.M), len(phage_nodes)])\n",
    "overall_y[2] = visualizer.sum_up_columns(overall_y[2], int(graph.M))"
   ]
  },
  {
   "cell_type": "code",
   "execution_count": 18,
   "metadata": {},
   "outputs": [
    {
     "data": {
      "image/png": "[encoded data removed]",
      "text/plain": [
       "<Figure size 640x480 with 1 Axes>"
      ]
     },
     "metadata": {},
     "output_type": "display_data"
    },
    {
     "data": {
      "text/plain": [
       "<matplotlib.legend.Legend at 0x33ab8e110>"
      ]
     },
     "execution_count": 18,
     "metadata": {},
     "output_type": "execute_result"
    },
    {
     "data": {
      "image/png": "[encoded data removed]",
      "text/plain": [
       "<Figure size 640x480 with 1 Axes>"
      ]
     },
     "metadata": {},
     "output_type": "display_data"
    }
   ],
   "source": [
    "new_graphing_data = [R0, U0, I0, P0]\n",
    "flattened = graph.flatten_lists_and_matrices(*new_graphing_data)\n",
    "new_non_graphing_data_vectors = [e_vector, tau_vector]\n",
    "new_non_graphing_data_matrices = [v_matrix, K_matrix, r_matrix, B_matrix]\n",
    "\n",
    "solved_system = graph.solve_system(graph.odesystem, flattened, graph, *[phage_nodes, bacteria_nodes, resource_nodes, int(graph.M)], *new_non_graphing_data_vectors, *new_non_graphing_data_matrices)\n",
    "solved_y = solved_system.y\n",
    "overall_y = graph.unflatten_initial_matrix(solved_system.y, [len(resource_nodes), len(bacteria_nodes), int(graph.M), len(phage_nodes)])\n",
    "overall_y[2] = visualizer.sum_up_columns(overall_y[2], int(graph.M))\n",
    "new_overall_y = [overall_y[i][0] for i in range(len(overall_y))]\n",
    "number_time_steps_to_show = 50\n",
    "solved_t = solved_system.t\n",
    "solved_t_new = solved_t[:number_time_steps_to_show]\n",
    "for i in range(len(new_overall_y)):\n",
    "    new_overall_y[i] = new_overall_y[i][:number_time_steps_to_show]\n",
    "fig = plt.figure()\n",
    "ax = fig.add_subplot(2, 1, 1)\n",
    "\n",
    "new_overall_y = new_overall_y[1:4]\n",
    "line = ax.stackplot(solved_t_new, new_overall_y, labels=[\"resource\", \"uninfected bacteria\", \"infected bacteria\", \"phage\"])\n",
    "\n",
    "ax.set_yscale('log')\n",
    "# plt.stackplot(solved_t_new, new_overall_y, labels=[\"resource\", \"uninfected bacteria\", \"infected bacteria\", \"phage\"])\n",
    "# plt.set_yscale('log')\n",
    "# plt.legend()\n",
    "plt.show()\n",
    "\n",
    "new_overall_y = np.array(new_overall_y)\n",
    "column_sums = new_overall_y.sum(axis=0)\n",
    "new_overall_y = new_overall_y / column_sums\n",
    "plt.stackplot(solved_t_new, new_overall_y, labels=[\"resource\", \"uninfected bacteria\", \"infected bacteria\", \"phage\"])\n",
    "plt.legend(loc='upper right')\n",
    "# plots from https://enviromicro-journals.onlinelibrary.wiley.com/doi/full/10.1111/1462-2920.13743\n",
    "# TODO: remove resources form grpahs below"
   ]
  },
  {
   "attachments": {
    "image.png": {
     "image/png": "[encoded data removed]"
    }
   },
   "cell_type": "markdown",
   "metadata": {},
   "source": [
    "![image.png](attachment:image.png)"
   ]
  },
  {
   "cell_type": "markdown",
   "metadata": {},
   "source": []
  },
  {
   "cell_type": "code",
   "execution_count": 8,
   "metadata": {},
   "outputs": [
    {
     "ename": "IndexError",
     "evalue": "list index out of range",
     "output_type": "error",
     "traceback": [
      "\u001b[31m---------------------------------------------------------------------------\u001b[39m",
      "\u001b[31mIndexError\u001b[39m                                Traceback (most recent call last)",
      "\u001b[36mCell\u001b[39m\u001b[36m \u001b[39m\u001b[32mIn[8]\u001b[39m\u001b[32m, line 27\u001b[39m\n\u001b[32m     25\u001b[39m     \u001b[38;5;28;01mfor\u001b[39;00m group \u001b[38;5;129;01min\u001b[39;00m group_names:\n\u001b[32m     26\u001b[39m         \u001b[38;5;28;01mfor\u001b[39;00m sublist \u001b[38;5;129;01min\u001b[39;00m data[group]:\n\u001b[32m---> \u001b[39m\u001b[32m27\u001b[39m             y.append(\u001b[43msublist\u001b[49m\u001b[43m[\u001b[49m\u001b[43mstack_index\u001b[49m\u001b[43m]\u001b[49m)\n\u001b[32m     28\u001b[39m     traces.append(\n\u001b[32m     29\u001b[39m         go.Bar(\n\u001b[32m     30\u001b[39m             x=x,\n\u001b[32m   (...)\u001b[39m\u001b[32m     33\u001b[39m         )\n\u001b[32m     34\u001b[39m     )\n\u001b[32m     36\u001b[39m fig = go.Figure(data=traces)\n",
      "\u001b[31mIndexError\u001b[39m: list index out of range"
     ]
    }
   ],
   "source": [
    "import dash\n",
    "from dash import dcc, html\n",
    "import plotly.graph_objects as go\n",
    "\n",
    "app = dash.Dash(__name__)\n",
    "\n",
    "data = {\n",
    "    \"name1\": [[1, 2, 3, 1, 3, 1], [3, 4, 4], [1, 2, 1], [1, 2, 1], [1, 2, 1]],\n",
    "    \"name2\": [[2, 3, 5,4], [1, 2, 1], [1, 2, 1], [1, 2, 1], [1, 2, 1]],\n",
    "    \"name3\": [[1, 2, 3, 1, 3, 1], [3, 4, 4], [3, 4, 4], [3, 4, 4], [3, 4, 4]]\n",
    "}\n",
    "\n",
    "group_names = list(data.keys())\n",
    "bar_labels = []\n",
    "num_stacks_per_bar = len(data[group_names[0]][0])\n",
    "\n",
    "# Construct x-tick positions: one per bar, grouped by name1/name2\n",
    "x = []\n",
    "bar_labels = [\"resources\", \"b\", \"u\", \"i\", \"p\"]  # group label repeated for each bar\n",
    "\n",
    "# Build traces (one per stack layer)\n",
    "traces = []\n",
    "for stack_index in range(num_stacks_per_bar):\n",
    "    y = []\n",
    "    for group in group_names:\n",
    "        for sublist in data[group]:\n",
    "            y.append(sublist[stack_index])\n",
    "    traces.append(\n",
    "        go.Bar(\n",
    "            x=x,\n",
    "            y=y,\n",
    "            name=f\"Stack {stack_index + 1}\"\n",
    "        )\n",
    "    )\n",
    "\n",
    "fig = go.Figure(data=traces)\n",
    "fig.update_layout(\n",
    "    barmode='stack',\n",
    "    xaxis=dict(\n",
    "        tickmode='array',\n",
    "        tickvals=x,\n",
    "        ticktext=bar_labels,\n",
    "        title='Group'\n",
    "    ),\n",
    "    title='Grouped and Stacked Bar Plot'\n",
    ")\n",
    "\n",
    "app.layout = html.Div([\n",
    "    dcc.Graph(figure=fig)\n",
    "])\n",
    "\n",
    "if __name__ == '__main__':\n",
    "    app.run(debug=True)"
   ]
  },
  {
   "cell_type": "code",
   "execution_count": 3,
   "metadata": {},
   "outputs": [
    {
     "data": {
      "application/vnd.plotly.v1+json": {
       "config": {
        "plotlyServerURL": "https://plot.ly"
       },
       "data": [
        {
         "legendgroup": "Resources",
         "name": "Resources_r0",
         "offsetgroup": "0",
         "type": "bar",
         "width": 0.5,
         "x": [
          "Initial Inoculation_Resources"
         ],
         "y": [
          1
         ]
        },
        {
         "legendgroup": "Resources",
         "name": "Resources_r1",
         "offsetgroup": "1",
         "type": "bar",
         "width": 0.5,
         "x": [
          "Initial Inoculation_Resources"
         ],
         "y": [
          2
         ]
        },
        {
         "legendgroup": "Resources",
         "name": "Resources_r2",
         "offsetgroup": "2",
         "type": "bar",
         "width": 0.5,
         "x": [
          "Initial Inoculation_Resources"
         ],
         "y": [
          4
         ]
        },
        {
         "legendgroup": "Resources",
         "name": "Resources_r3",
         "offsetgroup": "3",
         "type": "bar",
         "width": 0.5,
         "x": [
          "Initial Inoculation_Resources"
         ],
         "y": [
          1
         ]
        },
        {
         "legendgroup": "Phages",
         "name": "Phages_p1",
         "offsetgroup": "0",
         "type": "bar",
         "width": 0.5,
         "x": [
          "Initial Inoculation_Phages"
         ],
         "y": [
          3
         ]
        },
        {
         "legendgroup": "Phages",
         "name": "Phages_p2",
         "offsetgroup": "1",
         "type": "bar",
         "width": 0.5,
         "x": [
          "Initial Inoculation_Phages"
         ],
         "y": [
          4
         ]
        },
        {
         "legendgroup": "Phages",
         "name": "Phages_p3",
         "offsetgroup": "2",
         "type": "bar",
         "width": 0.5,
         "x": [
          "Initial Inoculation_Phages"
         ],
         "y": [
          4
         ]
        },
        {
         "legendgroup": "Resources",
         "name": "Resources_r0",
         "offsetgroup": "0",
         "type": "bar",
         "width": 0.5,
         "x": [
          "Initial Inoculation 2_Resources"
         ],
         "y": [
          1
         ]
        },
        {
         "legendgroup": "Resources",
         "name": "Resources_r1",
         "offsetgroup": "1",
         "type": "bar",
         "width": 0.5,
         "x": [
          "Initial Inoculation 2_Resources"
         ],
         "y": [
          2
         ]
        },
        {
         "legendgroup": "Resources",
         "name": "Resources_r2",
         "offsetgroup": "2",
         "type": "bar",
         "width": 0.5,
         "x": [
          "Initial Inoculation 2_Resources"
         ],
         "y": [
          4
         ]
        },
        {
         "legendgroup": "Resources",
         "name": "Resources_r3",
         "offsetgroup": "3",
         "type": "bar",
         "width": 0.5,
         "x": [
          "Initial Inoculation 2_Resources"
         ],
         "y": [
          1
         ]
        },
        {
         "legendgroup": "Phages",
         "name": "Phages_p1",
         "offsetgroup": "0",
         "type": "bar",
         "width": 0.5,
         "x": [
          "Initial Inoculation 2_Phages"
         ],
         "y": [
          3
         ]
        },
        {
         "legendgroup": "Phages",
         "name": "Phages_p2",
         "offsetgroup": "1",
         "type": "bar",
         "width": 0.5,
         "x": [
          "Initial Inoculation 2_Phages"
         ],
         "y": [
          4
         ]
        },
        {
         "legendgroup": "Phages",
         "name": "Phages_p3",
         "offsetgroup": "2",
         "type": "bar",
         "width": 0.5,
         "x": [
          "Initial Inoculation 2_Phages"
         ],
         "y": [
          4
         ]
        },
        {
         "legendgroup": "Resources",
         "name": "Resources_r0",
         "offsetgroup": "0",
         "type": "bar",
         "width": 0.5,
         "x": [
          "Initial Inoculation 3_Resources"
         ],
         "y": [
          1
         ]
        },
        {
         "legendgroup": "Resources",
         "name": "Resources_r1",
         "offsetgroup": "1",
         "type": "bar",
         "width": 0.5,
         "x": [
          "Initial Inoculation 3_Resources"
         ],
         "y": [
          2
         ]
        },
        {
         "legendgroup": "Resources",
         "name": "Resources_r2",
         "offsetgroup": "2",
         "type": "bar",
         "width": 0.5,
         "x": [
          "Initial Inoculation 3_Resources"
         ],
         "y": [
          4
         ]
        },
        {
         "legendgroup": "Resources",
         "name": "Resources_r3",
         "offsetgroup": "3",
         "type": "bar",
         "width": 0.5,
         "x": [
          "Initial Inoculation 3_Resources"
         ],
         "y": [
          1
         ]
        },
        {
         "legendgroup": "Phages",
         "name": "Phages_p1",
         "offsetgroup": "0",
         "type": "bar",
         "width": 0.5,
         "x": [
          "Initial Inoculation 3_Phages"
         ],
         "y": [
          3
         ]
        },
        {
         "legendgroup": "Phages",
         "name": "Phages_p2",
         "offsetgroup": "1",
         "type": "bar",
         "width": 0.5,
         "x": [
          "Initial Inoculation 3_Phages"
         ],
         "y": [
          4
         ]
        },
        {
         "legendgroup": "Phages",
         "name": "Phages_p3",
         "offsetgroup": "2",
         "type": "bar",
         "width": 0.5,
         "x": [
          "Initial Inoculation 3_Phages"
         ],
         "y": [
          4
         ]
        }
       ],
       "layout": {
        "barmode": "stack",
        "legend": {
         "title": {
          "text": "Legend"
         }
        },
        "template": {
         "data": {
          "bar": [
           {
            "error_x": {
             "color": "#2a3f5f"
            },
            "error_y": {
             "color": "#2a3f5f"
            },
            "marker": {
             "line": {
              "color": "#E5ECF6",
              "width": 0.5
             },
             "pattern": {
              "fillmode": "overlay",
              "size": 10,
              "solidity": 0.2
             }
            },
            "type": "bar"
           }
          ],
          "barpolar": [
           {
            "marker": {
             "line": {
              "color": "#E5ECF6",
              "width": 0.5
             },
             "pattern": {
              "fillmode": "overlay",
              "size": 10,
              "solidity": 0.2
             }
            },
            "type": "barpolar"
           }
          ],
          "carpet": [
           {
            "aaxis": {
             "endlinecolor": "#2a3f5f",
             "gridcolor": "white",
             "linecolor": "white",
             "minorgridcolor": "white",
             "startlinecolor": "#2a3f5f"
            },
            "baxis": {
             "endlinecolor": "#2a3f5f",
             "gridcolor": "white",
             "linecolor": "white",
             "minorgridcolor": "white",
             "startlinecolor": "#2a3f5f"
            },
            "type": "carpet"
           }
          ],
          "choropleth": [
           {
            "colorbar": {
             "outlinewidth": 0,
             "ticks": ""
            },
            "type": "choropleth"
           }
          ],
          "contour": [
           {
            "colorbar": {
             "outlinewidth": 0,
             "ticks": ""
            },
            "colorscale": [
             [
              0,
              "#0d0887"
             ],
             [
              0.1111111111111111,
              "#46039f"
             ],
             [
              0.2222222222222222,
              "#7201a8"
             ],
             [
              0.3333333333333333,
              "#9c179e"
             ],
             [
              0.4444444444444444,
              "#bd3786"
             ],
             [
              0.5555555555555556,
              "#d8576b"
             ],
             [
              0.6666666666666666,
              "#ed7953"
             ],
             [
              0.7777777777777778,
              "#fb9f3a"
             ],
             [
              0.8888888888888888,
              "#fdca26"
             ],
             [
              1,
              "#f0f921"
             ]
            ],
            "type": "contour"
           }
          ],
          "contourcarpet": [
           {
            "colorbar": {
             "outlinewidth": 0,
             "ticks": ""
            },
            "type": "contourcarpet"
           }
          ],
          "heatmap": [
           {
            "colorbar": {
             "outlinewidth": 0,
             "ticks": ""
            },
            "colorscale": [
             [
              0,
              "#0d0887"
             ],
             [
              0.1111111111111111,
              "#46039f"
             ],
             [
              0.2222222222222222,
              "#7201a8"
             ],
             [
              0.3333333333333333,
              "#9c179e"
             ],
             [
              0.4444444444444444,
              "#bd3786"
             ],
             [
              0.5555555555555556,
              "#d8576b"
             ],
             [
              0.6666666666666666,
              "#ed7953"
             ],
             [
              0.7777777777777778,
              "#fb9f3a"
             ],
             [
              0.8888888888888888,
              "#fdca26"
             ],
             [
              1,
              "#f0f921"
             ]
            ],
            "type": "heatmap"
           }
          ],
          "histogram": [
           {
            "marker": {
             "pattern": {
              "fillmode": "overlay",
              "size": 10,
              "solidity": 0.2
             }
            },
            "type": "histogram"
           }
          ],
          "histogram2d": [
           {
            "colorbar": {
             "outlinewidth": 0,
             "ticks": ""
            },
            "colorscale": [
             [
              0,
              "#0d0887"
             ],
             [
              0.1111111111111111,
              "#46039f"
             ],
             [
              0.2222222222222222,
              "#7201a8"
             ],
             [
              0.3333333333333333,
              "#9c179e"
             ],
             [
              0.4444444444444444,
              "#bd3786"
             ],
             [
              0.5555555555555556,
              "#d8576b"
             ],
             [
              0.6666666666666666,
              "#ed7953"
             ],
             [
              0.7777777777777778,
              "#fb9f3a"
             ],
             [
              0.8888888888888888,
              "#fdca26"
             ],
             [
              1,
              "#f0f921"
             ]
            ],
            "type": "histogram2d"
           }
          ],
          "histogram2dcontour": [
           {
            "colorbar": {
             "outlinewidth": 0,
             "ticks": ""
            },
            "colorscale": [
             [
              0,
              "#0d0887"
             ],
             [
              0.1111111111111111,
              "#46039f"
             ],
             [
              0.2222222222222222,
              "#7201a8"
             ],
             [
              0.3333333333333333,
              "#9c179e"
             ],
             [
              0.4444444444444444,
              "#bd3786"
             ],
             [
              0.5555555555555556,
              "#d8576b"
             ],
             [
              0.6666666666666666,
              "#ed7953"
             ],
             [
              0.7777777777777778,
              "#fb9f3a"
             ],
             [
              0.8888888888888888,
              "#fdca26"
             ],
             [
              1,
              "#f0f921"
             ]
            ],
            "type": "histogram2dcontour"
           }
          ],
          "mesh3d": [
           {
            "colorbar": {
             "outlinewidth": 0,
             "ticks": ""
            },
            "type": "mesh3d"
           }
          ],
          "parcoords": [
           {
            "line": {
             "colorbar": {
              "outlinewidth": 0,
              "ticks": ""
             }
            },
            "type": "parcoords"
           }
          ],
          "pie": [
           {
            "automargin": true,
            "type": "pie"
           }
          ],
          "scatter": [
           {
            "fillpattern": {
             "fillmode": "overlay",
             "size": 10,
             "solidity": 0.2
            },
            "type": "scatter"
           }
          ],
          "scatter3d": [
           {
            "line": {
             "colorbar": {
              "outlinewidth": 0,
              "ticks": ""
             }
            },
            "marker": {
             "colorbar": {
              "outlinewidth": 0,
              "ticks": ""
             }
            },
            "type": "scatter3d"
           }
          ],
          "scattercarpet": [
           {
            "marker": {
             "colorbar": {
              "outlinewidth": 0,
              "ticks": ""
             }
            },
            "type": "scattercarpet"
           }
          ],
          "scattergeo": [
           {
            "marker": {
             "colorbar": {
              "outlinewidth": 0,
              "ticks": ""
             }
            },
            "type": "scattergeo"
           }
          ],
          "scattergl": [
           {
            "marker": {
             "colorbar": {
              "outlinewidth": 0,
              "ticks": ""
             }
            },
            "type": "scattergl"
           }
          ],
          "scattermap": [
           {
            "marker": {
             "colorbar": {
              "outlinewidth": 0,
              "ticks": ""
             }
            },
            "type": "scattermap"
           }
          ],
          "scattermapbox": [
           {
            "marker": {
             "colorbar": {
              "outlinewidth": 0,
              "ticks": ""
             }
            },
            "type": "scattermapbox"
           }
          ],
          "scatterpolar": [
           {
            "marker": {
             "colorbar": {
              "outlinewidth": 0,
              "ticks": ""
             }
            },
            "type": "scatterpolar"
           }
          ],
          "scatterpolargl": [
           {
            "marker": {
             "colorbar": {
              "outlinewidth": 0,
              "ticks": ""
             }
            },
            "type": "scatterpolargl"
           }
          ],
          "scatterternary": [
           {
            "marker": {
             "colorbar": {
              "outlinewidth": 0,
              "ticks": ""
             }
            },
            "type": "scatterternary"
           }
          ],
          "surface": [
           {
            "colorbar": {
             "outlinewidth": 0,
             "ticks": ""
            },
            "colorscale": [
             [
              0,
              "#0d0887"
             ],
             [
              0.1111111111111111,
              "#46039f"
             ],
             [
              0.2222222222222222,
              "#7201a8"
             ],
             [
              0.3333333333333333,
              "#9c179e"
             ],
             [
              0.4444444444444444,
              "#bd3786"
             ],
             [
              0.5555555555555556,
              "#d8576b"
             ],
             [
              0.6666666666666666,
              "#ed7953"
             ],
             [
              0.7777777777777778,
              "#fb9f3a"
             ],
             [
              0.8888888888888888,
              "#fdca26"
             ],
             [
              1,
              "#f0f921"
             ]
            ],
            "type": "surface"
           }
          ],
          "table": [
           {
            "cells": {
             "fill": {
              "color": "#EBF0F8"
             },
             "line": {
              "color": "white"
             }
            },
            "header": {
             "fill": {
              "color": "#C8D4E3"
             },
             "line": {
              "color": "white"
             }
            },
            "type": "table"
           }
          ]
         },
         "layout": {
          "annotationdefaults": {
           "arrowcolor": "#2a3f5f",
           "arrowhead": 0,
           "arrowwidth": 1
          },
          "autotypenumbers": "strict",
          "coloraxis": {
           "colorbar": {
            "outlinewidth": 0,
            "ticks": ""
           }
          },
          "colorscale": {
           "diverging": [
            [
             0,
             "#8e0152"
            ],
            [
             0.1,
             "#c51b7d"
            ],
            [
             0.2,
             "#de77ae"
            ],
            [
             0.3,
             "#f1b6da"
            ],
            [
             0.4,
             "#fde0ef"
            ],
            [
             0.5,
             "#f7f7f7"
            ],
            [
             0.6,
             "#e6f5d0"
            ],
            [
             0.7,
             "#b8e186"
            ],
            [
             0.8,
             "#7fbc41"
            ],
            [
             0.9,
             "#4d9221"
            ],
            [
             1,
             "#276419"
            ]
           ],
           "sequential": [
            [
             0,
             "#0d0887"
            ],
            [
             0.1111111111111111,
             "#46039f"
            ],
            [
             0.2222222222222222,
             "#7201a8"
            ],
            [
             0.3333333333333333,
             "#9c179e"
            ],
            [
             0.4444444444444444,
             "#bd3786"
            ],
            [
             0.5555555555555556,
             "#d8576b"
            ],
            [
             0.6666666666666666,
             "#ed7953"
            ],
            [
             0.7777777777777778,
             "#fb9f3a"
            ],
            [
             0.8888888888888888,
             "#fdca26"
            ],
            [
             1,
             "#f0f921"
            ]
           ],
           "sequentialminus": [
            [
             0,
             "#0d0887"
            ],
            [
             0.1111111111111111,
             "#46039f"
            ],
            [
             0.2222222222222222,
             "#7201a8"
            ],
            [
             0.3333333333333333,
             "#9c179e"
            ],
            [
             0.4444444444444444,
             "#bd3786"
            ],
            [
             0.5555555555555556,
             "#d8576b"
            ],
            [
             0.6666666666666666,
             "#ed7953"
            ],
            [
             0.7777777777777778,
             "#fb9f3a"
            ],
            [
             0.8888888888888888,
             "#fdca26"
            ],
            [
             1,
             "#f0f921"
            ]
           ]
          },
          "colorway": [
           "#636efa",
           "#EF553B",
           "#00cc96",
           "#ab63fa",
           "#FFA15A",
           "#19d3f3",
           "#FF6692",
           "#B6E880",
           "#FF97FF",
           "#FECB52"
          ],
          "font": {
           "color": "#2a3f5f"
          },
          "geo": {
           "bgcolor": "white",
           "lakecolor": "white",
           "landcolor": "#E5ECF6",
           "showlakes": true,
           "showland": true,
           "subunitcolor": "white"
          },
          "hoverlabel": {
           "align": "left"
          },
          "hovermode": "closest",
          "mapbox": {
           "style": "light"
          },
          "paper_bgcolor": "white",
          "plot_bgcolor": "#E5ECF6",
          "polar": {
           "angularaxis": {
            "gridcolor": "white",
            "linecolor": "white",
            "ticks": ""
           },
           "bgcolor": "#E5ECF6",
           "radialaxis": {
            "gridcolor": "white",
            "linecolor": "white",
            "ticks": ""
           }
          },
          "scene": {
           "xaxis": {
            "backgroundcolor": "#E5ECF6",
            "gridcolor": "white",
            "gridwidth": 2,
            "linecolor": "white",
            "showbackground": true,
            "ticks": "",
            "zerolinecolor": "white"
           },
           "yaxis": {
            "backgroundcolor": "#E5ECF6",
            "gridcolor": "white",
            "gridwidth": 2,
            "linecolor": "white",
            "showbackground": true,
            "ticks": "",
            "zerolinecolor": "white"
           },
           "zaxis": {
            "backgroundcolor": "#E5ECF6",
            "gridcolor": "white",
            "gridwidth": 2,
            "linecolor": "white",
            "showbackground": true,
            "ticks": "",
            "zerolinecolor": "white"
           }
          },
          "shapedefaults": {
           "line": {
            "color": "#2a3f5f"
           }
          },
          "ternary": {
           "aaxis": {
            "gridcolor": "white",
            "linecolor": "white",
            "ticks": ""
           },
           "baxis": {
            "gridcolor": "white",
            "linecolor": "white",
            "ticks": ""
           },
           "bgcolor": "#E5ECF6",
           "caxis": {
            "gridcolor": "white",
            "linecolor": "white",
            "ticks": ""
           }
          },
          "title": {
           "x": 0.05
          },
          "xaxis": {
           "automargin": true,
           "gridcolor": "white",
           "linecolor": "white",
           "ticks": "",
           "title": {
            "standoff": 15
           },
           "zerolinecolor": "white",
           "zerolinewidth": 2
          },
          "yaxis": {
           "automargin": true,
           "gridcolor": "white",
           "linecolor": "white",
           "ticks": "",
           "title": {
            "standoff": 15
           },
           "zerolinecolor": "white",
           "zerolinewidth": 2
          }
         }
        },
        "title": {
         "text": "Stacked Grouped Barplot"
        },
        "xaxis": {
         "title": {
          "text": "Groups"
         }
        },
        "yaxis": {
         "title": {
          "text": "Values"
         }
        }
       }
      }
     },
     "metadata": {},
     "output_type": "display_data"
    }
   ],
   "source": [
    "import pandas as pd\n",
    "import plotly.express as px\n",
    "import plotly.graph_objects as go\n",
    "\n",
    "data = {\n",
    "    \"Initial Inoculation\": {\n",
    "        \"group_names\": [\"Resources\", \"Phages\"],\n",
    "        \"column names\": [[\"r0\", \"r1\", \"r2\", \"r3\"], [\"p1\", \"p2\", \"p3\"]],\n",
    "        \"column_data\": [[1, 2, 4, 1], [3, 4, 4]]\n",
    "    },\n",
    "    \"Initial Inoculation 2\": {\n",
    "        \"group_names\": [\"Resources\", \"Phages\"],\n",
    "        \"column names\": [[\"r0\", \"r1\", \"r2\", \"r3\"], [\"p1\", \"p2\", \"p3\"]],\n",
    "        \"column_data\": [[1, 2, 4, 1], [3, 4, 4]]\n",
    "    },\n",
    "    \"Initial Inoculation 3\": {\n",
    "        \"group_names\": [\"Resources\", \"Phages\"],\n",
    "        \"column names\": [[\"r0\", \"r1\", \"r2\", \"r3\"], [\"p1\", \"p2\", \"p3\"]],\n",
    "        \"column_data\": [[1, 2, 4, 1], [3, 4, 4]]\n",
    "    },\n",
    "}\n",
    "\n",
    "fig = go.Figure()\n",
    "\n",
    "for group, group_data in data.items():\n",
    "    group_names = group_data[\"group_names\"]\n",
    "    column_names = group_data[\"column names\"]\n",
    "    column_data = group_data[\"column_data\"]\n",
    "\n",
    "    for i, (col_name, col_values) in enumerate(zip(column_names, column_data)):\n",
    "        for j, value in enumerate(col_values):\n",
    "            fig.add_trace(go.Bar(\n",
    "                x=[f\"{group}_{group_names[i]}\"],\n",
    "                y=[value],\n",
    "                name=f\"{group_names[i]}_{col_name[j]}\",\n",
    "                offsetgroup=j,\n",
    "                legendgroup=group_names[i],\n",
    "                width=0.5\n",
    "            ))\n",
    "\n",
    "fig.update_layout(\n",
    "    barmode=\"stack\",\n",
    "    title=\"Stacked Grouped Barplot\",\n",
    "    xaxis_title=\"Groups\",\n",
    "    yaxis_title=\"Values\",\n",
    "    legend_title=\"Legend\"\n",
    ")\n",
    "\n",
    "fig.show()"
   ]
  },
  {
   "cell_type": "code",
   "execution_count": null,
   "metadata": {},
   "outputs": [
    {
     "data": {
      "application/vnd.plotly.v1+json": {
       "config": {
        "plotlyServerURL": "https://plot.ly"
       },
       "data": [
        {
         "name": "Montreal",
         "type": "bar",
         "x": [
          "b",
          "a",
          "c",
          "d"
         ],
         "y": [
          2,
          5,
          null,
          1
         ]
        },
        {
         "name": "Ottawa",
         "type": "bar",
         "x": [
          "b",
          "a",
          "c",
          "d"
         ],
         "y": [
          1,
          4,
          9,
          16
         ]
        },
        {
         "name": "Toronto",
         "type": "bar",
         "x": [
          "b",
          "a",
          "c",
          "d"
         ],
         "y": [
          6,
          8,
          4.5,
          8
         ]
        }
       ],
       "layout": {
        "barmode": "stack",
        "template": {
         "data": {
          "bar": [
           {
            "error_x": {
             "color": "#2a3f5f"
            },
            "error_y": {
             "color": "#2a3f5f"
            },
            "marker": {
             "line": {
              "color": "#E5ECF6",
              "width": 0.5
             },
             "pattern": {
              "fillmode": "overlay",
              "size": 10,
              "solidity": 0.2
             }
            },
            "type": "bar"
           }
          ],
          "barpolar": [
           {
            "marker": {
             "line": {
              "color": "#E5ECF6",
              "width": 0.5
             },
             "pattern": {
              "fillmode": "overlay",
              "size": 10,
              "solidity": 0.2
             }
            },
            "type": "barpolar"
           }
          ],
          "carpet": [
           {
            "aaxis": {
             "endlinecolor": "#2a3f5f",
             "gridcolor": "white",
             "linecolor": "white",
             "minorgridcolor": "white",
             "startlinecolor": "#2a3f5f"
            },
            "baxis": {
             "endlinecolor": "#2a3f5f",
             "gridcolor": "white",
             "linecolor": "white",
             "minorgridcolor": "white",
             "startlinecolor": "#2a3f5f"
            },
            "type": "carpet"
           }
          ],
          "choropleth": [
           {
            "colorbar": {
             "outlinewidth": 0,
             "ticks": ""
            },
            "type": "choropleth"
           }
          ],
          "contour": [
           {
            "colorbar": {
             "outlinewidth": 0,
             "ticks": ""
            },
            "colorscale": [
             [
              0,
              "#0d0887"
             ],
             [
              0.1111111111111111,
              "#46039f"
             ],
             [
              0.2222222222222222,
              "#7201a8"
             ],
             [
              0.3333333333333333,
              "#9c179e"
             ],
             [
              0.4444444444444444,
              "#bd3786"
             ],
             [
              0.5555555555555556,
              "#d8576b"
             ],
             [
              0.6666666666666666,
              "#ed7953"
             ],
             [
              0.7777777777777778,
              "#fb9f3a"
             ],
             [
              0.8888888888888888,
              "#fdca26"
             ],
             [
              1,
              "#f0f921"
             ]
            ],
            "type": "contour"
           }
          ],
          "contourcarpet": [
           {
            "colorbar": {
             "outlinewidth": 0,
             "ticks": ""
            },
            "type": "contourcarpet"
           }
          ],
          "heatmap": [
           {
            "colorbar": {
             "outlinewidth": 0,
             "ticks": ""
            },
            "colorscale": [
             [
              0,
              "#0d0887"
             ],
             [
              0.1111111111111111,
              "#46039f"
             ],
             [
              0.2222222222222222,
              "#7201a8"
             ],
             [
              0.3333333333333333,
              "#9c179e"
             ],
             [
              0.4444444444444444,
              "#bd3786"
             ],
             [
              0.5555555555555556,
              "#d8576b"
             ],
             [
              0.6666666666666666,
              "#ed7953"
             ],
             [
              0.7777777777777778,
              "#fb9f3a"
             ],
             [
              0.8888888888888888,
              "#fdca26"
             ],
             [
              1,
              "#f0f921"
             ]
            ],
            "type": "heatmap"
           }
          ],
          "histogram": [
           {
            "marker": {
             "pattern": {
              "fillmode": "overlay",
              "size": 10,
              "solidity": 0.2
             }
            },
            "type": "histogram"
           }
          ],
          "histogram2d": [
           {
            "colorbar": {
             "outlinewidth": 0,
             "ticks": ""
            },
            "colorscale": [
             [
              0,
              "#0d0887"
             ],
             [
              0.1111111111111111,
              "#46039f"
             ],
             [
              0.2222222222222222,
              "#7201a8"
             ],
             [
              0.3333333333333333,
              "#9c179e"
             ],
             [
              0.4444444444444444,
              "#bd3786"
             ],
             [
              0.5555555555555556,
              "#d8576b"
             ],
             [
              0.6666666666666666,
              "#ed7953"
             ],
             [
              0.7777777777777778,
              "#fb9f3a"
             ],
             [
              0.8888888888888888,
              "#fdca26"
             ],
             [
              1,
              "#f0f921"
             ]
            ],
            "type": "histogram2d"
           }
          ],
          "histogram2dcontour": [
           {
            "colorbar": {
             "outlinewidth": 0,
             "ticks": ""
            },
            "colorscale": [
             [
              0,
              "#0d0887"
             ],
             [
              0.1111111111111111,
              "#46039f"
             ],
             [
              0.2222222222222222,
              "#7201a8"
             ],
             [
              0.3333333333333333,
              "#9c179e"
             ],
             [
              0.4444444444444444,
              "#bd3786"
             ],
             [
              0.5555555555555556,
              "#d8576b"
             ],
             [
              0.6666666666666666,
              "#ed7953"
             ],
             [
              0.7777777777777778,
              "#fb9f3a"
             ],
             [
              0.8888888888888888,
              "#fdca26"
             ],
             [
              1,
              "#f0f921"
             ]
            ],
            "type": "histogram2dcontour"
           }
          ],
          "mesh3d": [
           {
            "colorbar": {
             "outlinewidth": 0,
             "ticks": ""
            },
            "type": "mesh3d"
           }
          ],
          "parcoords": [
           {
            "line": {
             "colorbar": {
              "outlinewidth": 0,
              "ticks": ""
             }
            },
            "type": "parcoords"
           }
          ],
          "pie": [
           {
            "automargin": true,
            "type": "pie"
           }
          ],
          "scatter": [
           {
            "fillpattern": {
             "fillmode": "overlay",
             "size": 10,
             "solidity": 0.2
            },
            "type": "scatter"
           }
          ],
          "scatter3d": [
           {
            "line": {
             "colorbar": {
              "outlinewidth": 0,
              "ticks": ""
             }
            },
            "marker": {
             "colorbar": {
              "outlinewidth": 0,
              "ticks": ""
             }
            },
            "type": "scatter3d"
           }
          ],
          "scattercarpet": [
           {
            "marker": {
             "colorbar": {
              "outlinewidth": 0,
              "ticks": ""
             }
            },
            "type": "scattercarpet"
           }
          ],
          "scattergeo": [
           {
            "marker": {
             "colorbar": {
              "outlinewidth": 0,
              "ticks": ""
             }
            },
            "type": "scattergeo"
           }
          ],
          "scattergl": [
           {
            "marker": {
             "colorbar": {
              "outlinewidth": 0,
              "ticks": ""
             }
            },
            "type": "scattergl"
           }
          ],
          "scattermap": [
           {
            "marker": {
             "colorbar": {
              "outlinewidth": 0,
              "ticks": ""
             }
            },
            "type": "scattermap"
           }
          ],
          "scattermapbox": [
           {
            "marker": {
             "colorbar": {
              "outlinewidth": 0,
              "ticks": ""
             }
            },
            "type": "scattermapbox"
           }
          ],
          "scatterpolar": [
           {
            "marker": {
             "colorbar": {
              "outlinewidth": 0,
              "ticks": ""
             }
            },
            "type": "scatterpolar"
           }
          ],
          "scatterpolargl": [
           {
            "marker": {
             "colorbar": {
              "outlinewidth": 0,
              "ticks": ""
             }
            },
            "type": "scatterpolargl"
           }
          ],
          "scatterternary": [
           {
            "marker": {
             "colorbar": {
              "outlinewidth": 0,
              "ticks": ""
             }
            },
            "type": "scatterternary"
           }
          ],
          "surface": [
           {
            "colorbar": {
             "outlinewidth": 0,
             "ticks": ""
            },
            "colorscale": [
             [
              0,
              "#0d0887"
             ],
             [
              0.1111111111111111,
              "#46039f"
             ],
             [
              0.2222222222222222,
              "#7201a8"
             ],
             [
              0.3333333333333333,
              "#9c179e"
             ],
             [
              0.4444444444444444,
              "#bd3786"
             ],
             [
              0.5555555555555556,
              "#d8576b"
             ],
             [
              0.6666666666666666,
              "#ed7953"
             ],
             [
              0.7777777777777778,
              "#fb9f3a"
             ],
             [
              0.8888888888888888,
              "#fdca26"
             ],
             [
              1,
              "#f0f921"
             ]
            ],
            "type": "surface"
           }
          ],
          "table": [
           {
            "cells": {
             "fill": {
              "color": "#EBF0F8"
             },
             "line": {
              "color": "white"
             }
            },
            "header": {
             "fill": {
              "color": "#C8D4E3"
             },
             "line": {
              "color": "white"
             }
            },
            "type": "table"
           }
          ]
         },
         "layout": {
          "annotationdefaults": {
           "arrowcolor": "#2a3f5f",
           "arrowhead": 0,
           "arrowwidth": 1
          },
          "autotypenumbers": "strict",
          "coloraxis": {
           "colorbar": {
            "outlinewidth": 0,
            "ticks": ""
           }
          },
          "colorscale": {
           "diverging": [
            [
             0,
             "#8e0152"
            ],
            [
             0.1,
             "#c51b7d"
            ],
            [
             0.2,
             "#de77ae"
            ],
            [
             0.3,
             "#f1b6da"
            ],
            [
             0.4,
             "#fde0ef"
            ],
            [
             0.5,
             "#f7f7f7"
            ],
            [
             0.6,
             "#e6f5d0"
            ],
            [
             0.7,
             "#b8e186"
            ],
            [
             0.8,
             "#7fbc41"
            ],
            [
             0.9,
             "#4d9221"
            ],
            [
             1,
             "#276419"
            ]
           ],
           "sequential": [
            [
             0,
             "#0d0887"
            ],
            [
             0.1111111111111111,
             "#46039f"
            ],
            [
             0.2222222222222222,
             "#7201a8"
            ],
            [
             0.3333333333333333,
             "#9c179e"
            ],
            [
             0.4444444444444444,
             "#bd3786"
            ],
            [
             0.5555555555555556,
             "#d8576b"
            ],
            [
             0.6666666666666666,
             "#ed7953"
            ],
            [
             0.7777777777777778,
             "#fb9f3a"
            ],
            [
             0.8888888888888888,
             "#fdca26"
            ],
            [
             1,
             "#f0f921"
            ]
           ],
           "sequentialminus": [
            [
             0,
             "#0d0887"
            ],
            [
             0.1111111111111111,
             "#46039f"
            ],
            [
             0.2222222222222222,
             "#7201a8"
            ],
            [
             0.3333333333333333,
             "#9c179e"
            ],
            [
             0.4444444444444444,
             "#bd3786"
            ],
            [
             0.5555555555555556,
             "#d8576b"
            ],
            [
             0.6666666666666666,
             "#ed7953"
            ],
            [
             0.7777777777777778,
             "#fb9f3a"
            ],
            [
             0.8888888888888888,
             "#fdca26"
            ],
            [
             1,
             "#f0f921"
            ]
           ]
          },
          "colorway": [
           "#636efa",
           "#EF553B",
           "#00cc96",
           "#ab63fa",
           "#FFA15A",
           "#19d3f3",
           "#FF6692",
           "#B6E880",
           "#FF97FF",
           "#FECB52"
          ],
          "font": {
           "color": "#2a3f5f"
          },
          "geo": {
           "bgcolor": "white",
           "lakecolor": "white",
           "landcolor": "#E5ECF6",
           "showlakes": true,
           "showland": true,
           "subunitcolor": "white"
          },
          "hoverlabel": {
           "align": "left"
          },
          "hovermode": "closest",
          "mapbox": {
           "style": "light"
          },
          "paper_bgcolor": "white",
          "plot_bgcolor": "#E5ECF6",
          "polar": {
           "angularaxis": {
            "gridcolor": "white",
            "linecolor": "white",
            "ticks": ""
           },
           "bgcolor": "#E5ECF6",
           "radialaxis": {
            "gridcolor": "white",
            "linecolor": "white",
            "ticks": ""
           }
          },
          "scene": {
           "xaxis": {
            "backgroundcolor": "#E5ECF6",
            "gridcolor": "white",
            "gridwidth": 2,
            "linecolor": "white",
            "showbackground": true,
            "ticks": "",
            "zerolinecolor": "white"
           },
           "yaxis": {
            "backgroundcolor": "#E5ECF6",
            "gridcolor": "white",
            "gridwidth": 2,
            "linecolor": "white",
            "showbackground": true,
            "ticks": "",
            "zerolinecolor": "white"
           },
           "zaxis": {
            "backgroundcolor": "#E5ECF6",
            "gridcolor": "white",
            "gridwidth": 2,
            "linecolor": "white",
            "showbackground": true,
            "ticks": "",
            "zerolinecolor": "white"
           }
          },
          "shapedefaults": {
           "line": {
            "color": "#2a3f5f"
           }
          },
          "ternary": {
           "aaxis": {
            "gridcolor": "white",
            "linecolor": "white",
            "ticks": ""
           },
           "baxis": {
            "gridcolor": "white",
            "linecolor": "white",
            "ticks": ""
           },
           "bgcolor": "#E5ECF6",
           "caxis": {
            "gridcolor": "white",
            "linecolor": "white",
            "ticks": ""
           }
          },
          "title": {
           "x": 0.05
          },
          "xaxis": {
           "automargin": true,
           "gridcolor": "white",
           "linecolor": "white",
           "ticks": "",
           "title": {
            "standoff": 15
           },
           "zerolinecolor": "white",
           "zerolinewidth": 2
          },
          "yaxis": {
           "automargin": true,
           "gridcolor": "white",
           "linecolor": "white",
           "ticks": "",
           "title": {
            "standoff": 15
           },
           "zerolinecolor": "white",
           "zerolinewidth": 2
          }
         }
        },
        "xaxis": {
         "categoryorder": "category ascending"
        }
       }
      }
     },
     "metadata": {},
     "output_type": "display_data"
    }
   ],
   "source": [
    "import plotly.graph_objects as go\n",
    "import numpy as np\n",
    "x=['b', 'a', 'c', 'd']\n",
    "fig = go.Figure(go.Bar(x=x, y=[2,5,1], name='Montreal'))\n",
    "fig.add_trace(go.Bar(x=x, y=[1, 4, 9, 16], name='Ottawa'))\n",
    "fig.add_trace(go.Bar(x=x, y=[6, 8, 4.5, 8], name='Toronto'))\n",
    "\n",
    "fig.update_layout(barmode='stack', xaxis={'categoryorder':'category ascending'})\n",
    "fig.show()"
   ]
  },
  {
   "cell_type": "code",
   "execution_count": 5,
   "metadata": {},
   "outputs": [
    {
     "data": {
      "text/html": [
       "\n",
       "        <iframe\n",
       "            width=\"100%\"\n",
       "            height=\"650\"\n",
       "            src=\"http://127.0.0.1:8050/\"\n",
       "            frameborder=\"0\"\n",
       "            allowfullscreen\n",
       "            \n",
       "        ></iframe>\n",
       "        "
      ],
      "text/plain": [
       "<IPython.lib.display.IFrame at 0x11d043910>"
      ]
     },
     "metadata": {},
     "output_type": "display_data"
    }
   ],
   "source": [
    "import dash\n",
    "from dash import dcc, html\n",
    "import plotly.graph_objects as go\n",
    "\n",
    "# Input data\n",
    "data = {\n",
    "    \"Initial Inoculation\": {\n",
    "        \"group_names\": [\"Resources\", \"Phages\"],\n",
    "        \"column_names\": [[\"r0\", \"r1\", \"r2\", \"r3\"], [\"p1\", \"p2\", \"p3\"]],\n",
    "        \"column_data\": [[1, 2, 4, 1], [3, 4, 4]]\n",
    "    },\n",
    "    \"Initial Inoculation 2\": {\n",
    "        \"group_names\": [\"Resources\", \"Phages\"],\n",
    "        \"column_names\": [[\"r0\", \"r1\", \"r2\", \"r3\"], [\"p1\", \"p2\", \"p3\"]],\n",
    "        \"column_data\": [[1, 2, 4, 1], [3, 4, 4]]\n",
    "    },\n",
    "    \"Initial Inoculation 3\": {\n",
    "        \"group_names\": [\"Resources\", \"Phages\"],\n",
    "        \"column_names\": [[\"r0\", \"r1\", \"r2\", \"r3\"], [\"p1\", \"p2\", \"p3\"]],\n",
    "        \"column_data\": [[1, 2, 4, 1], [3, 4, 4]]\n",
    "    },\n",
    "}\n",
    "\n",
    "# Step 1: Flatten data for stacked bars\n",
    "records = []\n",
    "\n",
    "for group_label, group_data in data.items():\n",
    "    group_names = group_data[\"group_names\"]\n",
    "    column_names = group_data[\"column_names\"]\n",
    "    column_data = group_data[\"column_data\"]\n",
    "\n",
    "    for group_name, names_list, values_list in zip(group_names, column_names, column_data):\n",
    "        for name, value in zip(names_list, values_list):\n",
    "            records.append({\n",
    "                \"x\": f\"{group_label} - {group_name}\",  # composite x-axis label\n",
    "                \"stack_label\": name,\n",
    "                \"value\": value\n",
    "            })\n",
    "\n",
    "# Step 2: Create bar traces\n",
    "from collections import defaultdict\n",
    "\n",
    "grouped = defaultdict(list)\n",
    "for record in records:\n",
    "    grouped[record[\"stack_label\"]].append(record)\n",
    "\n",
    "traces = []\n",
    "x_order = sorted(list({r['x'] for r in records}))  # Preserve consistent order\n",
    "\n",
    "for stack_label, entries in grouped.items():\n",
    "    # Match values to correct x positions\n",
    "    y_vals = []\n",
    "    for x in x_order:\n",
    "        match = next((e['value'] for e in entries if e['x'] == x), 0)\n",
    "        y_vals.append(match)\n",
    "\n",
    "    traces.append(go.Bar(\n",
    "        x=x_order,\n",
    "        y=y_vals,\n",
    "        name=stack_label\n",
    "    ))\n",
    "\n",
    "# Step 3: Create figure\n",
    "fig = go.Figure(data=traces)\n",
    "fig.update_layout(\n",
    "    barmode='stack',\n",
    "    title='Grouped and Stacked Bar Plot',\n",
    "    xaxis_title='Condition - Type',\n",
    "    yaxis_title='Value',\n",
    "    xaxis_tickangle=30\n",
    ")\n",
    "\n",
    "# Step 4: Dash layout\n",
    "app = dash.Dash(__name__)\n",
    "\n",
    "app.layout = html.Div([\n",
    "    html.H1(\"Grouped + Stacked Bar Plot\"),\n",
    "    dcc.Graph(figure=fig)\n",
    "])\n",
    "\n",
    "if __name__ == '__main__':\n",
    "    app.run(debug=True)"
   ]
  },
  {
   "cell_type": "code",
   "execution_count": 25,
   "metadata": {},
   "outputs": [
    {
     "data": {
      "text/html": [
       "\n",
       "        <iframe\n",
       "            width=\"100%\"\n",
       "            height=\"650\"\n",
       "            src=\"http://127.0.0.1:8050/\"\n",
       "            frameborder=\"0\"\n",
       "            allowfullscreen\n",
       "            \n",
       "        ></iframe>\n",
       "        "
      ],
      "text/plain": [
       "<IPython.lib.display.IFrame at 0x1172e1290>"
      ]
     },
     "metadata": {},
     "output_type": "display_data"
    }
   ],
   "source": [
    "import dash\n",
    "from dash import dcc, html\n",
    "import plotly.graph_objects as go\n",
    "\n",
    "data = {\n",
    "    \"Initial Inoculation\": {\n",
    "        \"group_names\": [\"Resources\", \"Phages\"],\n",
    "        \"column_names\": [[\"r0\", \"r1\", \"r2\", \"r3\"], [\"p1\", \"p2\", \"p3\"]],\n",
    "        \"column_data\": [[1, 2, 4, 1], [3, 4, 4]]\n",
    "    },\n",
    "    \"Initial Inoculation 2\": {\n",
    "        \"group_names\": [\"Resources\", \"Phages\"],\n",
    "        \"column_names\": [[\"r0\", \"r1\", \"r2\", \"r3\"], [\"p1\", \"p2\", \"p3\"]],\n",
    "        \"column_data\": [[1, 2, 4, 1], [3, 4, 4]]\n",
    "    },\n",
    "    \"Initial Inoculation 3\": {\n",
    "        \"group_names\": [\"Resources\", \"Phages\"],\n",
    "        \"column_names\": [[\"r0\", \"r1\", \"r2\", \"r3\"], [\"p1\", \"p2\", \"p3\"]],\n",
    "        \"column_data\": [[1, 2, 4, 1], [3, 4, 4]]\n",
    "    },\n",
    "    \"Initial Inoculation 4\": {\n",
    "        \"group_names\": [\"Resources\", \"Phages\"],\n",
    "        \"column_names\": [[\"r0\", \"r1\", \"r2\", \"r3\"], [\"p1\", \"p2\", \"p3\"]],\n",
    "        \"column_data\": [[1, 2, 4, 1], [3, 4, 4]]\n",
    "    },\n",
    "    \"Initial Inoculation 5\": {\n",
    "        \"group_names\": [\"Resources\", \"Phages\"],\n",
    "        \"column_names\": [[\"r0\", \"r1\", \"r2\", \"r3\"], [\"p1\", \"p2\", \"p3\"]],\n",
    "        \"column_data\": [[1, 2, 4, 1], [3, 4, 4]]\n",
    "    },\n",
    "    \"Initial Inoculation 6\": {\n",
    "        \"group_names\": [\"Resources\", \"Phages\"],\n",
    "        \"column_names\": [[\"r0\", \"r1\", \"r2\", \"r3\"], [\"p1\", \"p2\", \"p3\"]],\n",
    "        \"column_data\": [[1, 2, 4, 1], [3, 4, 4]]\n",
    "    },\n",
    "    \"Initial Inoculation 7\": {\n",
    "        \"group_names\": [\"Resources\", \"Phages\"],\n",
    "        \"column_names\": [[\"r0\", \"r1\", \"r2\", \"r3\"], [\"p1\", \"p2\", \"p3\"]],\n",
    "        \"column_data\": [[1, 2, 4, 1], [3, 4, 4]]\n",
    "    },\n",
    "    \"Initial Inoculation 8\": {\n",
    "        \"group_names\": [\"Resources\", \"Phages\"],\n",
    "        \"column_names\": [[\"r0\", \"r1\", \"r2\", \"r3\"], [\"p1\", \"p2\", \"p3\"]],\n",
    "        \"column_data\": [[1, 2, 4, 1], [3, 4, 4]]\n",
    "    },\n",
    "    \"Initial Inoculation 9\": {\n",
    "        \"group_names\": [\"Resources\", \"Phages\"],\n",
    "        \"column_names\": [[\"r0\", \"r1\", \"r2\", \"r3\"], [\"p1\", \"p2\", \"p3\"]],\n",
    "        \"column_data\": [[1, 2, 4, 1], [3, 4, 4]]\n",
    "    },\n",
    "    \"Initial Inoculation 10\": {\n",
    "        \"group_names\": [\"Resources\", \"Phages\"],\n",
    "        \"column_names\": [[\"r0\", \"r1\", \"r2\", \"r3\"], [\"p1\", \"p2\", \"p3\"]],\n",
    "        \"column_data\": [[1, 2, 4, 1], [3, 4, 4]]\n",
    "    },\n",
    "}\n",
    "\n",
    "# Step 1: Flatten and assign numeric x positions\n",
    "records = []\n",
    "x_pos = 0\n",
    "x_labels = []\n",
    "group_gap = 0.01  # wider spacing between groups\n",
    "intra_group_gap = 0.01  # small spacing between phages and resources\n",
    "\n",
    "for group_label, group_data in data.items():\n",
    "    group_names = group_data[\"group_names\"]\n",
    "    column_names = group_data[\"column_names\"]\n",
    "    column_data = group_data[\"column_data\"]\n",
    "\n",
    "    for i, (group_name, col_names, col_vals) in enumerate(zip(group_names, column_names, column_data)):\n",
    "        xpos = x_pos + i * intra_group_gap\n",
    "        label = f\"{group_label}<br>{group_name}\"\n",
    "        x_labels.append((xpos, label))\n",
    "\n",
    "        for name, val in zip(col_names, col_vals):\n",
    "            records.append({\n",
    "                \"x\": xpos,\n",
    "                \"x_label\": label,\n",
    "                \"stack_label\": name,\n",
    "                \"value\": val\n",
    "            })\n",
    "    x_pos += len(group_names) * intra_group_gap + group_gap\n",
    "\n",
    "# Step 2: Build plotly bar traces from individual stack segments\n",
    "from collections import defaultdict\n",
    "\n",
    "grouped = defaultdict(list)\n",
    "for r in records:\n",
    "    grouped[r[\"stack_label\"]].append(r)\n",
    "\n",
    "traces = []\n",
    "x_tick_vals = []\n",
    "x_tick_texts = []\n",
    "\n",
    "for stack_label, entries in grouped.items():\n",
    "    traces.append(go.Bar(\n",
    "        x=[e[\"x\"] for e in entries],\n",
    "        y=[e[\"value\"] for e in entries],\n",
    "        name=stack_label\n",
    "    ))\n",
    "\n",
    "# Only unique x-labels\n",
    "for xpos, label in dict(sorted(x_labels)).items():\n",
    "    x_tick_vals.append(xpos)\n",
    "    x_tick_texts.append(label)\n",
    "\n",
    "# Step 3: Plot setup\n",
    "fig = go.Figure(data=traces)\n",
    "fig.update_layout(\n",
    "    barmode=\"stack\",\n",
    "    title=\"Grouped + Stacked Bar Plot with Spacing\",\n",
    "    xaxis=dict(\n",
    "        tickmode=\"array\",\n",
    "        tickvals=x_tick_vals,\n",
    "        ticktext=x_tick_texts,\n",
    "        tickangle=90\n",
    "    ),\n",
    "    yaxis_title=\"Value\"\n",
    ")\n",
    "\n",
    "# Step 4: Dash Layout\n",
    "app = dash.Dash(__name__)\n",
    "\n",
    "app.layout = html.Div([\n",
    "    html.H1(\"Grouped + Stacked Bar Plot (Spaced Layout)\"),\n",
    "    dcc.Graph(figure=fig)\n",
    "])\n",
    "\n",
    "if __name__ == \"__main__\":\n",
    "    app.run(debug=True)"
   ]
  },
  {
   "cell_type": "code",
   "execution_count": null,
   "metadata": {},
   "outputs": [],
   "source": []
  }
 ],
 "metadata": {
  "kernelspec": {
   "display_name": "venv",
   "language": "python",
   "name": "python3"
  },
  "language_info": {
   "codemirror_mode": {
    "name": "ipython",
    "version": 3
   },
   "file_extension": ".py",
   "mimetype": "text/x-python",
   "name": "python",
   "nbconvert_exporter": "python",
   "pygments_lexer": "ipython3",
   "version": "3.11.6"
  }
 },
 "nbformat": 4,
 "nbformat_minor": 2
}
